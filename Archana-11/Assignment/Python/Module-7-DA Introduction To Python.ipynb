{
 "cells": [
  {
   "cell_type": "markdown",
   "id": "ad7e55a0-d55b-413a-9ba1-e53dd1520759",
   "metadata": {},
   "source": [
    "### 1) What are the Types of Applications?\n",
    "\n",
    "#### - Applications can be categorized into various types based on their functionality, platform, and purpose, such as:\n",
    "  - **Web Applications**: Applications that run in web browsers (e.g., e-commerce websites, social media platforms).\n",
    "  - **Mobile Applications**: Apps designed for smartphones and tablets (e.g., Android or iOS apps).\n",
    "  - **Desktop Applications**: Programs that run on personal computers (e.g., word processors, media players).\n",
    "  - **Game Applications**: Designed for entertainment and gaming (e.g., video games, VR experiences).\n",
    "  - **Scientific and Numeric Applications**: For data analysis, simulations, and calculations (e.g., MATLAB, NumPy).\n",
    "  - **Artificial Intelligence Applications**: Machine learning, neural networks, and automation (e.g., chatbots, recommendation systems).\n",
    "\n",
    "---\n",
    "\n",
    "### 2) What is Programming?\n",
    "\n",
    "#### - Programming is a technological process that involves creating instructions for a computer to follow in order to solve problems.\n",
    "#### - These instructions, called **code**, are written in programming languages (e.g., Python, Java, C++).\n",
    "#### - Programming allows developers to create software, applications, and systems to perform specific tasks.\n",
    "\n",
    "---\n",
    "\n",
    "### 3) What is Python?\n",
    "\n",
    "#### - Python is a high-level, interpreted, and general-purpose programming language known for its simplicity, readability, and versatility.\n",
    "#### - It was created by **Guido van Rossum** and first released in **1991**.\n",
    "#### - Python is widely used for:\n",
    "  - **Web Development**: Frameworks like Django and Flask.\n",
    "  - **Data Science**: Libraries like Pandas, NumPy, and Matplotlib.\n",
    "  - **Machine Learning and AI**: Tools like TensorFlow and PyTorch.\n",
    "  - **Automation and Scripting**: Automating repetitive tasks.\n",
    "  - **Game Development**: Libraries like Pygame.\n",
    "\n",
    "#### **Why Use Python?**\n",
    "- Easy to learn and use.\n",
    "- Large community and extensive library support.\n",
    "- Cross-platform compatibility.\n"
   ]
  },
  {
   "cell_type": "markdown",
   "id": "31d65ba2-7e74-4b38-acf7-9f1f063dd6b9",
   "metadata": {},
   "source": [
    "### 4) Write a Python program to check if a number is positive, negative or zero. \n"
   ]
  },
  {
   "cell_type": "code",
   "execution_count": 9,
   "id": "e8ad0e4f-8135-41ad-9465-fe16be069b11",
   "metadata": {},
   "outputs": [
    {
     "name": "stdin",
     "output_type": "stream",
     "text": [
      "Enter a number :  2\n"
     ]
    },
    {
     "name": "stdout",
     "output_type": "stream",
     "text": [
      "The number entered is positive\n"
     ]
    }
   ],
   "source": [
    "def NumberCheck():\n",
    "    try:\n",
    "        x = float(input(\"Enter a number : \"))\n",
    "        \n",
    "        if x > 0:\n",
    "            print(\"The number entered is positive\")\n",
    "        elif x < 0:\n",
    "            print(\"The number entered is negative\")\n",
    "        else:\n",
    "            print(\"The number entered is zero\")\n",
    "            \n",
    "    except ValueError:\n",
    "        print(\"Enter a valid number\")\n",
    "\n",
    "NumberCheck() "
   ]
  },
  {
   "cell_type": "markdown",
   "id": "4b18bbd4-4c66-4ae2-ad87-d509eafebeb1",
   "metadata": {},
   "source": [
    "### 5) Write a Python program to get the Factorial number of given numbers"
   ]
  },
  {
   "cell_type": "code",
   "execution_count": 34,
   "id": "216d53f7-8307-44f6-8c00-c3e217f2fc8e",
   "metadata": {},
   "outputs": [
    {
     "name": "stdin",
     "output_type": "stream",
     "text": [
      "Enter the number:  3\n"
     ]
    },
    {
     "name": "stdout",
     "output_type": "stream",
     "text": [
      "The factorial of 3 is: 6\n"
     ]
    }
   ],
   "source": [
    "def getFactorial(x):\n",
    "    try:\n",
    "        if x < 0:\n",
    "            return \"Enter a positive number\"\n",
    "        elif x == 0 or x == 1:\n",
    "            return 1\n",
    "        else:\n",
    "            return x * getFactorial(x - 1)\n",
    "    except ValueError:\n",
    "        return \"Enter a valid number\"\n",
    "\n",
    "try:\n",
    "    num = int(input(\"Enter the number: \"))\n",
    "    result = getFactorial(num)\n",
    "    print(f\"The factorial of {num} is: {result}\")\n",
    "except ValueError:\n",
    "    print(\"Enter a valid number\")"
   ]
  },
  {
   "cell_type": "markdown",
   "id": "0eeb1f6c-a9a3-4031-b59f-0d199a1bf5e4",
   "metadata": {},
   "source": [
    "### 6) Write a Python program to get the Fibonacci series of given range"
   ]
  },
  {
   "cell_type": "code",
   "execution_count": 42,
   "id": "e5e64899-b0ff-4808-965c-ad604d49458c",
   "metadata": {},
   "outputs": [
    {
     "name": "stdin",
     "output_type": "stream",
     "text": [
      "Enter the range for Fibonacci series:  2\n"
     ]
    },
    {
     "name": "stdout",
     "output_type": "stream",
     "text": [
      "Fibonacci series:\n",
      "0 1 \n"
     ]
    }
   ],
   "source": [
    "def getFibonacci(n):\n",
    "    if n <= 0:\n",
    "        print(\"Enter a positive integer.\")\n",
    "        return\n",
    "    else:\n",
    "        a, b = 0, 1\n",
    "        print(\"Fibonacci series:\")\n",
    "        for i in range(n):\n",
    "            print(a, end=\" \")\n",
    "            a, b = b, a + b\n",
    "        print()  \n",
    "\n",
    "try:\n",
    "    n = int(input(\"Enter the range for Fibonacci series: \"))\n",
    "    getFibonacci(n)\n",
    "except ValueError:\n",
    "    print(\"Enter a valid number.\")"
   ]
  },
  {
   "cell_type": "markdown",
   "id": "c4ecb8be-9f45-4385-bb23-42ddcbf6427e",
   "metadata": {},
   "source": [
    "### 7) How is Memory Managed in Python?\n",
    "\n",
    "#### 1. What is Memory Management?\n",
    "When you write a program, Python needs to store your data (like numbers, lists, or strings) somewhere. **Memory management** is how Python handles storing and cleaning up this data.\n",
    "\n",
    "---\n",
    "\n",
    "#### 2. How Python Stores Data\n",
    "- **Stack Memory**: \n",
    "  - Stores temporary data like variables inside functions.\n",
    "  - Automatically cleared when the function ends.\n",
    "- **Heap Memory**: \n",
    "  - Stores everything else, like objects, lists, or dictionaries.\n",
    "  - This memory stays until Python decides it’s no longer needed.\n",
    "\n",
    "---\n",
    "\n",
    "#### 3. How Python Knows What to Keep\n",
    "- Python tracks how many times something is being used. For example:\n",
    "  - If you create a list `x = [1, 2, 3]`, Python sees that the list is being used by `x`.\n",
    "  - If `x` is deleted or no longer needed, Python will clean it up.\n",
    "\n",
    "---\n",
    "\n",
    "#### 4. Garbage Collector\n",
    "- Sometimes, Python finds data that is no longer needed, like objects you forgot to delete. \n",
    "- The **garbage collector** is like a cleaner: it finds and removes unused data to free up memory.\n",
    "- You don’t need to do this yourself.\n",
    "\n",
    "---\n",
    "\n",
    "#### 5. Why You Don’t Worry Much About Memory\n",
    "- Python does most of the memory management for you **automatically**:\n",
    "  - When you create a variable, Python gives it memory.\n",
    "  - When you don’t need it anymore, Python removes it.\n",
    "\n",
    "---\n",
    "\n",
    "### 8) What is the Purpose of the `continue` Statement in Python?\n",
    "\n",
    "- The `continue` statement in Python is used inside loops (like `for` or `while`) to **skip the rest of the code** in the current iteration and move to the next iteration of the loop.\n",
    "- It is commonly used to bypass certain conditions in the loop without breaking it entirely.\n",
    "\n",
    "---\n",
    "\n",
    "#### Purpose of `continue`:\n",
    "- To skip unnecessary computations.\n",
    "- To handle specific conditions within a loop while still iterating through the rest of the items.\n",
    "\n",
    "---\n",
    "\n",
    "#### Example: Skipping Even Numbers\n",
    "```python\n",
    "for num in range(1, 10):  # Loop through numbers 1 to 9\n",
    "    if num % 2 == 0:  # Check if the number is even\n",
    "        continue  # Skip the rest of the code for even numbers\n",
    "    print(num)\n",
    "```\n",
    "\n",
    "`output`\n",
    "```python\n",
    "1\n",
    "3\n",
    "5\n",
    "7\n",
    "9\n",
    "```"
   ]
  },
  {
   "cell_type": "markdown",
   "id": "ef986709-b724-4547-84b4-3eda1b949061",
   "metadata": {},
   "source": [
    "### 9) Write python program that swap two number with temp variable and without temp variable. "
   ]
  },
  {
   "cell_type": "code",
   "execution_count": 47,
   "id": "bc8b82fc-bcd0-4772-9c7f-405cbd4f45f0",
   "metadata": {},
   "outputs": [
    {
     "name": "stdin",
     "output_type": "stream",
     "text": [
      "Enter the first number :  1\n",
      "Enter the second number :  s\n"
     ]
    },
    {
     "name": "stdout",
     "output_type": "stream",
     "text": [
      "Enter a valid number.\n"
     ]
    }
   ],
   "source": [
    "def SwapWithTemp(n1,n2):\n",
    "\n",
    "    print(f\"Before Swapping :: n1 = {n1} , n2 = {n2}\")\n",
    "    \n",
    "    temp = n1\n",
    "    n1 = n2\n",
    "    n2 = temp\n",
    "\n",
    "    print(f\"After Swapping :: n1 = {n1} , n2 = {n2}\")\n",
    "    \n",
    "try:\n",
    "    n1 = int(input(\"Enter the first number : \"))\n",
    "    n2 = int(input(\"Enter the second number : \"))\n",
    "    SwapWithTemp(n1,n2)\n",
    "except ValueError:\n",
    "    print(\"Enter a valid number.\")"
   ]
  },
  {
   "cell_type": "code",
   "execution_count": 49,
   "id": "b512d1e0-f5a5-4c9a-befc-c290299fcf23",
   "metadata": {},
   "outputs": [
    {
     "name": "stdin",
     "output_type": "stream",
     "text": [
      "Enter the first number :  4\n",
      "Enter the second number :  7\n"
     ]
    },
    {
     "name": "stdout",
     "output_type": "stream",
     "text": [
      "Before Swapping :: n1 = 4 , n2 = 7\n",
      "After Swapping  :: n1 = 7 , n2 = 4\n"
     ]
    }
   ],
   "source": [
    "def SwapWithOutTemp(n1,n2):\n",
    "\n",
    "    print(f\"Before Swapping :: n1 = {n1} , n2 = {n2}\")\n",
    "    \n",
    "    n2 = n1 + n2\n",
    "    n1 = n2 - n1\n",
    "    n2 = n2 - n1\n",
    "\n",
    "    # x = x * y   # x becomes 50\n",
    "    # y = x / y   # y becomes 5 (original value of x)\n",
    "    # x = x / y   # x becomes 10 (original value of y)\n",
    "   \n",
    "    print(f\"After Swapping  :: n1 = {n1} , n2 = {n2}\")\n",
    "    \n",
    "try:\n",
    "    n1 = int(input(\"Enter the first number : \"))\n",
    "    n2 = int(input(\"Enter the second number : \"))\n",
    "    SwapWithOutTemp(n1,n2)\n",
    "except ValueError:\n",
    "    print(\"Enter a valid number.\")"
   ]
  },
  {
   "cell_type": "markdown",
   "id": "44bb30b4-6a0f-4819-acf0-db776184cefd",
   "metadata": {},
   "source": [
    "### 10) Write a Python program to find whether a given number is even or odd, print out an appropriate message to the user."
   ]
  },
  {
   "cell_type": "code",
   "execution_count": 53,
   "id": "25e14f23-38a5-402b-8a7a-fb851f5a6b08",
   "metadata": {},
   "outputs": [
    {
     "name": "stdin",
     "output_type": "stream",
     "text": [
      "Enter the Number you want to check :  22\n"
     ]
    },
    {
     "name": "stdout",
     "output_type": "stream",
     "text": [
      "The given number is EVEN\n"
     ]
    }
   ],
   "source": [
    "def EvenOrOdd(n):\n",
    "\n",
    "    if(n % 2 == 0):\n",
    "        print(\"The given number is EVEN\")\n",
    "    else:\n",
    "        print(\"The given number is ODD\")\n",
    "\n",
    "try:\n",
    "    n = int(input(\"Enter the Number you want to check : \"))\n",
    "    EvenOrOdd(n)\n",
    "except ValueError:\n",
    "    print(\"Enter a valid number.\")"
   ]
  },
  {
   "cell_type": "markdown",
   "id": "1455eac1-86d2-469f-87f1-caaf32857c13",
   "metadata": {},
   "source": [
    "### 11) Write a Python program to test whether a passed letter is a vowel or not. "
   ]
  },
  {
   "cell_type": "code",
   "execution_count": 62,
   "id": "4b6c2857-51d7-4dae-99b8-e572480b2637",
   "metadata": {},
   "outputs": [
    {
     "name": "stdin",
     "output_type": "stream",
     "text": [
      "Enter a single letter :  e\n"
     ]
    },
    {
     "data": {
      "text/plain": [
       "\"'e' IS a vowel.\""
      ]
     },
     "execution_count": 62,
     "metadata": {},
     "output_type": "execute_result"
    }
   ],
   "source": [
    "def VowelOrNot(letter):\n",
    "    \n",
    "    if len(letter) != 1 :\n",
    "        return \"Please enter a single character\"\n",
    "    elif letter.isnumeric():\n",
    "        return \"Please enter an alphabet\"\n",
    "    else:\n",
    "        vowels = \"aeiouAEIOU\"\n",
    "        \n",
    "        if letter in vowels:\n",
    "            return f\"'{letter}' IS a vowel.\"\n",
    "        else:\n",
    "            return f\"'{letter}' IS NOT a vowel.\"\n",
    "\n",
    "letter = input(\"Enter a single letter : \")\n",
    "VowelOrNot(letter)"
   ]
  },
  {
   "cell_type": "markdown",
   "id": "8d24a0a5-3218-4216-a3fd-8dac5b4dc663",
   "metadata": {},
   "source": [
    "### 12) Write a Python program to sum of three given integers. However, if two values are equal sum will be zero."
   ]
  },
  {
   "cell_type": "code",
   "execution_count": 70,
   "id": "44050be5-e70f-4dd8-b0c1-6ab764a7f806",
   "metadata": {},
   "outputs": [
    {
     "name": "stdin",
     "output_type": "stream",
     "text": [
      "Enter the first integer:  0.3\n"
     ]
    },
    {
     "name": "stdout",
     "output_type": "stream",
     "text": [
      "Please enter valid number\n"
     ]
    }
   ],
   "source": [
    "def SumOfThree(a,b,c):\n",
    "    if a == b or b == c or a == c:\n",
    "        return 0\n",
    "    else:\n",
    "        return a + b + c\n",
    "\n",
    "try:\n",
    "    a = int(input(\"Enter the first integer: \"))\n",
    "    b = int(input(\"Enter the second integer: \"))\n",
    "    c = int(input(\"Enter the third integer: \"))\n",
    "    \n",
    "    result = SumOfThree(a, b, c)\n",
    "    print(\"The result is:\", result)\n",
    "except ValueError:\n",
    "    print(\"Please enter valid number\")"
   ]
  },
  {
   "cell_type": "markdown",
   "id": "5f758115-3a21-45de-b021-1ca518a8c73a",
   "metadata": {},
   "source": [
    "### 13) Write a Python program that will return true if the two given integer values are equal or their sum or difference is 5 "
   ]
  },
  {
   "cell_type": "code",
   "execution_count": 75,
   "id": "5d7d5f8c-3003-42b6-8a82-705d86205d87",
   "metadata": {},
   "outputs": [
    {
     "name": "stdin",
     "output_type": "stream",
     "text": [
      "Enter the first integer:  -6\n",
      "Enter the second integer:  -1\n"
     ]
    },
    {
     "name": "stdout",
     "output_type": "stream",
     "text": [
      "Result: True\n"
     ]
    }
   ],
   "source": [
    "def CheckInteger(a,b):\n",
    "    \n",
    "    if a == b or abs(a + b) == 5 or abs(a - b) == 5:\n",
    "        return True\n",
    "    else:\n",
    "        return False\n",
    "try:\n",
    "    a = int(input(\"Enter the first integer: \"))\n",
    "    b = int(input(\"Enter the second integer: \"))\n",
    "\n",
    "    result = CheckInteger(a, b)\n",
    "    print(\"Result:\", result)\n",
    "    \n",
    "except ValueError:\n",
    "    print(\"Please enter valid Number.\")"
   ]
  },
  {
   "cell_type": "markdown",
   "id": "83994867-a17e-4bf2-88ec-839bbf86e329",
   "metadata": {},
   "source": [
    "### 14) Write a python program to sum of the first n positive integers. "
   ]
  },
  {
   "cell_type": "code",
   "execution_count": 8,
   "id": "36e0e3be-07db-488d-96a2-cbb69f880b66",
   "metadata": {},
   "outputs": [
    {
     "name": "stdin",
     "output_type": "stream",
     "text": [
      "Enter a positive integer n:  \n"
     ]
    },
    {
     "name": "stdout",
     "output_type": "stream",
     "text": [
      "Please enter a valid integer.\n"
     ]
    }
   ],
   "source": [
    "def SumOfInt(n):\n",
    "\n",
    "    sum = 0 \n",
    "    \n",
    "    for i in range(n+1):\n",
    "        sum = sum + i\n",
    "        \n",
    "    return sum\n",
    "\n",
    "try:\n",
    "    n = int(input(\"Enter a positive integer n: \"))\n",
    "\n",
    "    if n > 0:\n",
    "        result = SumOfInt(n)\n",
    "        print(f\"The sum of the first {n} positive integers is: {result}\")\n",
    "        \n",
    "    else:\n",
    "        print(\"Please enter a positive integer.\")\n",
    "        \n",
    "except ValueError:\n",
    "    print(\"Please enter a valid integer.\")"
   ]
  },
  {
   "cell_type": "markdown",
   "id": "1cab9572-7855-4e09-ba52-67623e49e2df",
   "metadata": {},
   "source": [
    "### 15) Write a Python program to calculate the length of a string. "
   ]
  },
  {
   "cell_type": "code",
   "execution_count": 13,
   "id": "925cd6a4-387c-44ba-9712-96d7c1c6c4fb",
   "metadata": {},
   "outputs": [
    {
     "name": "stdin",
     "output_type": "stream",
     "text": [
      "Enter a string:     hello  \n"
     ]
    },
    {
     "name": "stdout",
     "output_type": "stream",
     "text": [
      "The length of the entered string is: 5\n"
     ]
    }
   ],
   "source": [
    "def StringLength(s):\n",
    "\n",
    "    count = 0\n",
    "    for char in s:\n",
    "        count += 1\n",
    "    return count\n",
    "\n",
    "string_input = input(\"Enter a string: \").strip()\n",
    "\n",
    "if not string_input:\n",
    "    print(\"Please write a valid string\")\n",
    "else:\n",
    "    length = StringLength(string_input)\n",
    "    print(f\"The length of the entered string is: {length}\")"
   ]
  },
  {
   "cell_type": "markdown",
   "id": "4159b15e-c01b-4192-8c5b-ec8cdb65c580",
   "metadata": {},
   "source": [
    "### 16) Write a Python program to count the number of characters (character frequency) in a string \n"
   ]
  },
  {
   "cell_type": "code",
   "execution_count": 20,
   "id": "3719b195-ea37-4f6f-8780-6d140e360dab",
   "metadata": {},
   "outputs": [
    {
     "name": "stdin",
     "output_type": "stream",
     "text": [
      "Enter a string:  \n"
     ]
    },
    {
     "name": "stdout",
     "output_type": "stream",
     "text": [
      "Please write a valid string\n"
     ]
    }
   ],
   "source": [
    "def CharFrequency(s):\n",
    "    frequency_char = {}\n",
    "    \n",
    "    for char in s:\n",
    "        frequency_char[char] = frequency_char.get(char, 0) + 1\n",
    "\n",
    "    sorted_frequency = sorted(frequency_char.items())\n",
    "    \n",
    "    print(\"Character frequencies:\")\n",
    "    for char, count in sorted_frequency:\n",
    "        print(f\"'{char}': {count}\")  \n",
    "\n",
    "string_input = input(\"Enter a string: \").strip()\n",
    "\n",
    "if not string_input:\n",
    "    print(\"Please write a valid string\")\n",
    "else:\n",
    "    CharFrequency(string_input)"
   ]
  },
  {
   "cell_type": "markdown",
   "id": "8cf241fe-324f-4ef9-8686-aab27eaa2699",
   "metadata": {},
   "source": [
    "### 17) What are negative indexes and why are they used?\n",
    "\n",
    "### Negative Indexes in Python\n",
    "\n",
    "In Python, **negative indexing** allows you to access elements from the **end** of a sequence (like a list, string, or tuple). Rather than starting from the beginning of the sequence (index 0), negative indices count from the last element (-1), the second last (-2), and so on.\n",
    "\n",
    "---\n",
    "\n",
    "#### Why are Negative Indexes Used?\n",
    "Negative indexes are particularly useful when you need to access elements at the end of a sequence without knowing the exact length of the sequence. They provide a convenient way to work with elements from the end.\n",
    "\n",
    "---\n",
    "\n",
    "#### Example:\n",
    "\n",
    "Consider the following list:\n",
    "```python\n",
    "my_list = [10, 20, 30, 40, 50]\n",
    "\n",
    "# Accessing elements using negative indexes\n",
    "print(my_list[-1])  # Output: 50\n",
    "print(my_list[-2])  # Output: 40\n",
    "print(my_list[-3])  # Output: 30\n",
    "```\n",
    "---"
   ]
  },
  {
   "cell_type": "markdown",
   "id": "0aab373c-821d-4e0b-8dad-fd2a0ec593e5",
   "metadata": {},
   "source": [
    "### 18) Write a Python program to count occurrences of a substring in a string. \n"
   ]
  },
  {
   "cell_type": "code",
   "execution_count": 22,
   "id": "4fac9140-218a-4432-8584-cc48ed0ed2c6",
   "metadata": {},
   "outputs": [
    {
     "name": "stdin",
     "output_type": "stream",
     "text": [
      "Enter the main string:  hello, hello1, hello there , hi hek hello\n",
      "Enter the substring to count:  hello\n"
     ]
    },
    {
     "name": "stdout",
     "output_type": "stream",
     "text": [
      "The substring 'hello' occurs 4 times in the main string.\n"
     ]
    }
   ],
   "source": [
    "def CountSubstring(string, substring):\n",
    "    return string.count(substring)\n",
    "\n",
    "main_string = input(\"Enter the main string: \").strip()\n",
    "\n",
    "if not main_string:\n",
    "    print(\"Please write a valid string\")\n",
    "else:\n",
    "    sub_string = input(\"Enter the substring to count: \").strip()\n",
    "\n",
    "    if not sub_string:\n",
    "        print(\"Please write a valid substring\")\n",
    "    else:\n",
    "        occurrences = CountSubstring(main_string, sub_string)\n",
    "        print(f\"The substring '{sub_string}' occurs {occurrences} times in the main string.\")"
   ]
  },
  {
   "cell_type": "markdown",
   "id": "544afd6d-bb82-4a3c-a84a-a9697164c61c",
   "metadata": {},
   "source": [
    "### 19) Write a Python program to count the occurrences of each word in a given sentence "
   ]
  },
  {
   "cell_type": "code",
   "execution_count": 29,
   "id": "8637da18-08d4-4eab-b2df-7415ccc2814b",
   "metadata": {},
   "outputs": [
    {
     "name": "stdin",
     "output_type": "stream",
     "text": [
      "Enter a sentence to count word occurrences:  \n"
     ]
    },
    {
     "name": "stdout",
     "output_type": "stream",
     "text": [
      "Invalid input. Please enter a non-empty sentence.\n"
     ]
    },
    {
     "name": "stdin",
     "output_type": "stream",
     "text": [
      "Enter a sentence to count word occurrences:  \n"
     ]
    },
    {
     "name": "stdout",
     "output_type": "stream",
     "text": [
      "Invalid input. Please enter a non-empty sentence.\n"
     ]
    },
    {
     "name": "stdin",
     "output_type": "stream",
     "text": [
      "Enter a sentence to count word occurrences:  hi1..\n"
     ]
    },
    {
     "name": "stdout",
     "output_type": "stream",
     "text": [
      "\n",
      "Word counts:\n",
      "hi1: 1\n"
     ]
    }
   ],
   "source": [
    "def count_word_occurrences(sentence):\n",
    "    sentence = sentence.lower()\n",
    "    sentence = sentence.translate(str.maketrans(\"\", \"\", string.punctuation))\n",
    "    words = sentence.split()\n",
    "    word_counts = {}\n",
    "    \n",
    "    for word in words:\n",
    "        if word in word_counts:\n",
    "            word_counts[word] += 1\n",
    "        else:\n",
    "            word_counts[word] = 1\n",
    "    \n",
    "    return word_counts\n",
    "\n",
    "while True:\n",
    "    sentence = input(\"Enter a sentence to count word occurrences: \").strip()\n",
    "    if sentence:\n",
    "        break\n",
    "    print(\"Invalid input. Please enter a non-empty sentence.\")\n",
    "\n",
    "word_counts = count_word_occurrences(sentence)\n",
    "print(\"\\nWord counts:\")\n",
    "for word, count in word_counts.items():\n",
    "    print(f\"{word}: {count}\")"
   ]
  },
  {
   "cell_type": "markdown",
   "id": "cb6f6180-3c5a-413e-b0ab-a3e7cf221812",
   "metadata": {},
   "source": [
    "### 20) Write a Python program to get a single string from two given strings, separated by a space and swap the first two characters of each string. "
   ]
  },
  {
   "cell_type": "code",
   "execution_count": 34,
   "id": "b5935e61-a277-4ac1-a4d6-f52c2f9b7a37",
   "metadata": {},
   "outputs": [
    {
     "name": "stdin",
     "output_type": "stream",
     "text": [
      "Enter the first string:  mre\n",
      "Enter the second string:  ttt\n"
     ]
    },
    {
     "name": "stdout",
     "output_type": "stream",
     "text": [
      "\n",
      "Original strings:\n",
      "String 1: mre\n",
      "String 2: ttt\n",
      "\n",
      "Result:\n",
      "tte mrt\n"
     ]
    }
   ],
   "source": [
    "def SwapAndCombine(string1, string2):\n",
    "    if len(string1) < 2 or len(string2) < 2:\n",
    "        return \"Both strings must have at least two characters.\"\n",
    "    swapped_string1 = string2[:2] + string1[2:]\n",
    "    swapped_string2 = string1[:2] + string2[2:]\n",
    "    return swapped_string1 + \" \" + swapped_string2\n",
    "\n",
    "while True:\n",
    "    string1 = input(\"Enter the first string: \").strip()\n",
    "    if string1:\n",
    "        break\n",
    "    print(\"Please write a valid string.\")\n",
    "\n",
    "while True:\n",
    "    string2 = input(\"Enter the second string: \").strip()\n",
    "    if string2:\n",
    "        break\n",
    "    print(\"Please write a valid string.\")\n",
    "\n",
    "result = wapAndCombine(string1, string2)\n",
    "print(\"\\nOriginal strings:\")\n",
    "print(f\"String 1: {string1}\")\n",
    "print(f\"String 2: {string2}\")\n",
    "print(\"\\nResult:\")\n",
    "print(result)"
   ]
  },
  {
   "cell_type": "markdown",
   "id": "2da7b1fe-cfb8-4bce-98ac-51fa0195312a",
   "metadata": {},
   "source": [
    "### 21) Write a Python program to add 'in' at the end of a given string (length should be at least 3). If the given string already ends with 'ing' then add 'ly' instead. If the string length of the given string is less than 3, leave it unchanged.\n"
   ]
  },
  {
   "cell_type": "code",
   "execution_count": 37,
   "id": "e022ae5f-6d10-49be-9e60-f72ed77a5897",
   "metadata": {},
   "outputs": [
    {
     "name": "stdin",
     "output_type": "stream",
     "text": [
      "Enter a string:  hi\n"
     ]
    },
    {
     "name": "stdout",
     "output_type": "stream",
     "text": [
      "Modified string: hi\n"
     ]
    }
   ],
   "source": [
    "def StringChange(s):\n",
    "    if len(s) < 3:\n",
    "        return s\n",
    "    elif s.endswith(\"ing\"):\n",
    "        return s + \"ly\"\n",
    "    else:\n",
    "        return s + \"in\"\n",
    "\n",
    "while True:\n",
    "    input_string = input(\"Enter a string: \").strip()\n",
    "    if input_string:\n",
    "        break\n",
    "    print(\"Please enter a valid string.\")\n",
    "\n",
    "result = StringChange(input_string)\n",
    "print(\"Modified string:\", result)"
   ]
  },
  {
   "cell_type": "markdown",
   "id": "11ccbc56-e7df-4a70-ad01-8b831b7bc162",
   "metadata": {},
   "source": [
    "### 22) Write a Python function to reverse a string if its length is a multiple of 4.\n"
   ]
  },
  {
   "cell_type": "code",
   "execution_count": 40,
   "id": "017d889c-f5b5-4ed7-a594-809844bd8aec",
   "metadata": {},
   "outputs": [
    {
     "name": "stdin",
     "output_type": "stream",
     "text": [
      "Enter a string:  hell\n"
     ]
    },
    {
     "name": "stdout",
     "output_type": "stream",
     "text": [
      "Result: lleh\n"
     ]
    }
   ],
   "source": [
    "def Reverse(s):\n",
    "    if len(s) % 4 == 0:\n",
    "        return s[::-1]\n",
    "    return s\n",
    "\n",
    "while True:\n",
    "    input_string = input(\"Enter a string: \").strip()\n",
    "    if input_string:\n",
    "        break\n",
    "    print(\"Please enter a valid string.\")\n",
    "\n",
    "result = Reverse(input_string)\n",
    "print(\"Result:\", result)"
   ]
  },
  {
   "cell_type": "markdown",
   "id": "ab0e5f91-9e74-4535-b3d2-4cc9a82b53a3",
   "metadata": {},
   "source": [
    "### 23) Write a Python program to get a string made of the first 2 and the last 2 chars from a given string. If the string length is less than 2, return instead of the empty string.\n"
   ]
  },
  {
   "cell_type": "code",
   "execution_count": null,
   "id": "182bf446-65dc-4962-ae6d-f9ac9072e2e5",
   "metadata": {},
   "outputs": [],
   "source": [
    "def StringMaking(s):\n",
    "    if len(s) < 2:\n",
    "        return \"\"\n",
    "    return s[:2] + s[-2:]\n",
    "\n",
    "while True:\n",
    "    input_string = input(\"Enter a string: \").strip()\n",
    "    if input_string:\n",
    "        break\n",
    "    print(\"Please enter a valid string.\")\n",
    "\n",
    "result = StringMaking(input_string)\n",
    "print(\"Result:\", result)"
   ]
  },
  {
   "cell_type": "markdown",
   "id": "10cf039c-4210-42ec-ac57-8be7a5e46cd3",
   "metadata": {},
   "source": [
    "### 24) Write a Python function to insert a string in the middle of a string.\n"
   ]
  },
  {
   "cell_type": "code",
   "execution_count": null,
   "id": "7896bc75-2204-43c4-a5f3-836823080d0b",
   "metadata": {},
   "outputs": [],
   "source": [
    "def insert_in_middle(original, to_insert):\n",
    "    middle_index = len(original) // 2\n",
    "    return original[:middle_index] + to_insert + original[middle_index:]\n",
    "\n",
    "while True:\n",
    "    original_string = input(\"Enter the original string: \").strip()\n",
    "    if original_string:\n",
    "        break\n",
    "    print(\"Please enter a valid string.\")\n",
    "\n",
    "while True:\n",
    "    insert_string = input(\"Enter the string to insert: \").strip()\n",
    "    if insert_string:\n",
    "        break\n",
    "    print(\"Please enter a valid string.\")\n",
    "\n",
    "result = insert_in_middle(original_string, insert_string)\n",
    "print(\"Result:\", result)"
   ]
  },
  {
   "cell_type": "markdown",
   "id": "dcf7cbf3-8af2-4329-ae8d-df813da14ac9",
   "metadata": {},
   "source": [
    "### 25) What is List? How will you reverse a list?\n"
   ]
  },
  {
   "cell_type": "markdown",
   "id": "32f7e94e-16a5-43fb-9a54-68439d58ea09",
   "metadata": {},
   "source": [
    "A **list** is a built-in data structure in Python that allows you to store an ordered collection of items. Lists are mutable, meaning you can change their content after creation. Lists can contain elements of different types, such as integers, strings, or even other lists.\n",
    "\n",
    "### Characteristics of a List:\n",
    "- Lists are **ordered**: The items have a defined order, and that order will not change unless you modify the list.\n",
    "- Lists are **mutable**: You can change, add, or remove items from a list.\n",
    "- Lists can contain **duplicate values**.\n",
    "- Lists are defined using square brackets `[]`.\n",
    "\n",
    "**Example:**\n",
    "```python\n",
    "my_list = [1, 2, 3, \"hello\", 4.5]\n",
    "```\n",
    "\n",
    "---\n",
    "\n",
    "In Python, you can reverse a list using different methods:\n",
    "\n",
    "#### 1. Using the `reverse()` method:\n",
    "The `reverse()` method reverses the list in place, meaning it modifies the original list.\n",
    "\n",
    "**Example:**\n",
    "```python\n",
    "my_list = [1, 2, 3, 4, 5]\n",
    "my_list.reverse()  # Reverses the list in place\n",
    "print(my_list)  # Output: [5, 4, 3, 2, 1]\n",
    "```\n",
    "\n",
    "#### 2. Using `slicing`:\n",
    "Another way to reverse a list is by using Python's slicing technique. This method creates a reversed copy of the list.\n",
    "\n",
    "**Example:**\n",
    "\n",
    "```python\n",
    "my_list = [1, 2, 3, 4, 5]\n",
    "reversed_list = my_list[::-1]  # Creates a reversed copy of the list\n",
    "print(reversed_list)  # Output: [5, 4, 3, 2, 1]\n",
    "```\n",
    "\n",
    "#### 3. Using the `reversed()` function:\n",
    "The `reversed()` function returns an iterator that accesses the elements of the list in reverse order. You can convert this iterator back into a list.\n",
    "\n",
    "**Example:**\n",
    "\n",
    "```python\n",
    "my_list = [1, 2, 3, 4, 5]\n",
    "reversed_list = list(reversed(my_list))  # Converts the reversed iterator into a list\n",
    "print(reversed_list)  # Output: [5, 4, 3, 2, 1]\n",
    "```\n",
    "\n",
    "---\n",
    "\n",
    "### Key Differences:\n",
    "- The `reverse()` method modifies the list in place and does not return a new list.\n",
    "- The `slicing method ([::-1])` creates a new list that is reversed.\n",
    "- The `reversed()` function returns an iterator, which can be converted to a list if needed."
   ]
  },
  {
   "cell_type": "markdown",
   "id": "7a77276b-4a44-46c0-8ace-cbf4a6596095",
   "metadata": {},
   "source": [
    "### 26) How will you remove the last object from a list?\n"
   ]
  },
  {
   "cell_type": "markdown",
   "id": "5960dac7-be41-4882-8077-2129085a2e79",
   "metadata": {},
   "source": [
    "In Python, you can remove the last object from a list using various methods:\n",
    "\n",
    "#### 1. Using the `pop()` method:\n",
    "The `pop()` method removes the last element from the list and returns it. If no index is provided, it removes the last item by default.\n",
    "\n",
    "**Example:**\n",
    "```python\n",
    "my_list = [1, 2, 3, 4, 5]\n",
    "my_list.pop()  # Removes the last item (5)\n",
    "print(my_list)  # Output: [1, 2, 3, 4]\n",
    "```\n",
    "\n",
    "#### 2. Using slicing:\n",
    "You can also use `slicing` to remove the last element by creating a new list that excludes the last item.\n",
    "\n",
    "**Example:**\n",
    "\n",
    "```python\n",
    "my_list = [1, 2, 3, 4, 5]\n",
    "my_list = my_list[:-1]  # Slices the list to exclude the last element\n",
    "print(my_list)  # Output: [1, 2, 3, 4]\n",
    "```\n",
    "\n",
    "---\n",
    "\n",
    "### Key Differences:\n",
    "- The pop() method modifies the original list and returns the removed element.\n",
    "- The slicing method creates a new list without the last element."
   ]
  },
  {
   "cell_type": "markdown",
   "id": "ddccc224-14b1-4023-89c8-ae03e9db458a",
   "metadata": {},
   "source": [
    "### 27) Suppose list1 is [2, 33, 222, 14, and 25], what is list1[-1]?\n"
   ]
  },
  {
   "cell_type": "markdown",
   "id": "87fdca6e-0161-44d8-b9b7-4515e56fda68",
   "metadata": {},
   "source": [
    "In Python, negative indexing is used to access elements from the end of a list. The index `-1` refers to the last element in the list.\n",
    "\n",
    "`list1[-1]` refers to the last element of the list. In this case, the last element is 25.\n",
    "\n",
    "**Example:**\n",
    "```python\n",
    "list1 = [2, 33, 222, 14, 25]\n",
    "print(list1[-1])  # Output: 25\n",
    "```\n",
    "\n",
    "`list1[-1]` accesses the last element, `list1[-2]` accesses the second last element, and so on."
   ]
  },
  {
   "cell_type": "markdown",
   "id": "a89ceb55-4c4b-4908-b1b7-07a12b68f50a",
   "metadata": {},
   "source": [
    "### 28) Differentiate between append() and extend() methods?\n"
   ]
  },
  {
   "cell_type": "markdown",
   "id": "ebbf4d62-838b-4523-8a59-50de13192d30",
   "metadata": {},
   "source": [
    "\n",
    "\n",
    "| **Feature**           | **`append()`**                                  | **`extend()`**                                  |\n",
    "|-----------------------|-------------------------------------------------|-------------------------------------------------|\n",
    "| **Purpose**           | Adds a single element to the end of the list.   | Adds multiple elements (iterable) to the end of the list. |\n",
    "| **Modifies the List** | Modifies the list in place.                     | Modifies the list in place.                     |\n",
    "| **Argument**          | Accepts a single element (any data type).      | Accepts an iterable (like a list, tuple, etc.). |\n",
    "| **Effect on List**    | The list length increases by 1.                 | The list length increases by the number of elements in the iterable. |\n",
    "| **Usage**             | Use when you want to add one element at the end. | Use when you want to add multiple elements at once. |\n",
    "| **Example**           | `list1.append(10)`                              | `list1.extend([10, 20, 30])`                    |\n",
    "\n",
    "#### Example 1: Using `append()`\n",
    "\n",
    "```python\n",
    "list1 = [1, 2, 3]\n",
    "list1.append(4)  # Adds 4 to the end of the list\n",
    "print(list1)  # Output: [1, 2, 3, 4]\n",
    "```\n",
    "---\n",
    "```python\n",
    "list1 = [1, 2, 3]\n",
    "list1.append([4, 5, 6])  # Adds the list [4, 5, 6] to the end of list1\n",
    "print(list1)  # Output: [1, 2, 3, [4, 5, 6]]\n",
    "```\n",
    "---\n",
    "\n",
    "#### Example 2: Using `extend()`\n",
    "\n",
    "```python\n",
    "list1 = [1, 2, 3]\n",
    "list1.extend(4)  # Error: 4 is not an iterable\n",
    "print(list1)\n",
    "```\n",
    "---\n",
    "```python\n",
    "list1 = [1, 2, 3]\n",
    "list1.extend([4, 5, 6])  # Adds elements from another list to the end\n",
    "print(list1)  # Output: [1, 2, 3, 4, 5, 6]\n",
    "```\n",
    "---"
   ]
  },
  {
   "cell_type": "markdown",
   "id": "e560c4f4-420d-4610-87ac-06d3cadf9b98",
   "metadata": {},
   "source": [
    "### 29) Write a Python function to get the largest number, smallest number, and sum of all from a list.\n"
   ]
  },
  {
   "cell_type": "code",
   "execution_count": 61,
   "id": "ad36e958-3a6a-49bc-ac0f-af1aad03bbba",
   "metadata": {},
   "outputs": [
    {
     "name": "stdin",
     "output_type": "stream",
     "text": [
      "Enter a list of numbers (e.g. [10, 20, 30]):  \n"
     ]
    },
    {
     "name": "stdout",
     "output_type": "stream",
     "text": [
      "No input provided.\n"
     ]
    }
   ],
   "source": [
    "def listStatistics(lst):\n",
    "    if not lst:\n",
    "        return \"The list is empty\"\n",
    "    \n",
    "    largest = max(lst)\n",
    "    smallest = min(lst)\n",
    "    total_sum = sum(lst)\n",
    "    \n",
    "    return largest, smallest, total_sum\n",
    "\n",
    "user_input = input(\"Enter a list of numbers (e.g. [10, 20, 30]): \")\n",
    "\n",
    "if not user_input.strip():\n",
    "    print(\"No input provided.\")\n",
    "else:\n",
    "    try:\n",
    "        numbers = eval(user_input)  # Convert input string to a list\n",
    "        if isinstance(numbers, list):\n",
    "            largest, smallest, total_sum = listStatistics(numbers)\n",
    "            print(f\"Largest number: {largest}\")\n",
    "            print(f\"Smallest number: {smallest}\")\n",
    "            print(f\"Sum of all numbers: {total_sum}\")\n",
    "        else:\n",
    "            print(\"The input is not a valid list.\")\n",
    "    except (SyntaxError, NameError):\n",
    "        print(\"Invalid input. Please enter a valid list of numbers.\")"
   ]
  },
  {
   "cell_type": "markdown",
   "id": "8b23cf00-3061-486b-a61c-46c82262aec4",
   "metadata": {},
   "source": [
    "### 30) How will you compare two lists?\n",
    "\n",
    "In Python, you can compare two lists in various ways depending on what you want to compare (equality, order, or content). Below are the most common methods:\n",
    "\n",
    "#### 1. Using the `==` operator:\n",
    "The `==` operator compares two lists element by element and returns `True` if they are exactly equal (i.e., same elements in the same order). Otherwise, it returns `False`.\n",
    "\n",
    "**Example:**\n",
    "```python\n",
    "list1 = [1, 2, 3]\n",
    "list2 = [1, 2, 3]\n",
    "list3 = [3, 2, 1]\n",
    "\n",
    "print(list1 == list2)  # Output: True\n",
    "print(list1 == list3)  # Output: False\n",
    "```\n",
    "\n",
    "#### 2. Using the != operator:\n",
    "The != operator returns `True` if the lists are not equal, and `False` if they are equal.\n",
    "\n",
    "**Example:**\n",
    "\n",
    "```python\n",
    "list1 = [1, 2, 3]\n",
    "list2 = [4, 5, 6]\n",
    "\n",
    "print(list1 != list2)  # Output: True\n",
    "```\n",
    "\n",
    "#### 3. Using all() function for content comparison:\n",
    "If you want to compare the content of two lists regardless of the order of the elements, you can use the `sorted(`) function along with `all()`.\n",
    "\n",
    "```python\n",
    "list1 = [1, 2, 3]\n",
    "list2 = [1, 2, 3]\n",
    "\n",
    "# Using all() to compare elements of both lists\n",
    "result = all(a == b for a, b in zip(list1, list2))\n",
    "\n",
    "print(result)  # Output: True\n",
    "```\n",
    "\n",
    "#### 4. Using set() for unordered comparison:\n",
    "If the order doesn't matter and you want to compare only the unique elements in the lists (ignoring duplicates), you can convert the lists to sets and compare them. This will disregard the order and duplicate values.\n",
    "\n",
    "**Example:**\n",
    "\n",
    "```python\n",
    "\n",
    "list1 = [1, 2, 3, 3]\n",
    "list2 = [3, 2, 1]\n",
    "\n",
    "print(set(list1) == set(list2))  # Output: True\n",
    "```\n",
    "#### 5. Using the sorted() Function for Content Comparison\n",
    "To compare lists without considering the order of elements, you can use the sorted() function to sort both lists before comparison. This will check if the lists contain the same elements, regardless of their order.\n",
    "\n",
    "**Example**\n",
    "```python\n",
    "list1 = [1, 2, 3]\n",
    "list2 = [3, 2, 1]\n",
    "\n",
    "print(sorted(list1) == sorted(list2))  # Output: True\n",
    "```\n",
    "---\n",
    "\n",
    "### Key Points:\n",
    "- `==` checks both the order and the values in the lists.\n",
    "- `!=` checks if the lists are not equal.\n",
    "- `zip()` with `all()` allows for flexible element-wise comparison.\n",
    "- `set()` is useful when you only care about the unique elements and not the order.\n",
    "- `sorted()` can be used to compare lists irrespective of order."
   ]
  },
  {
   "cell_type": "markdown",
   "id": "b0bd2be1-d293-41e7-8ced-4f7477e37d65",
   "metadata": {},
   "source": [
    "### 31) Write a Python program to count the number of strings where the string length is 2 or more and the first and last character are same from a given list of strings. "
   ]
  },
  {
   "cell_type": "code",
   "execution_count": 62,
   "id": "bca4d8a3-bf0d-4033-af08-a7a9b912b1f0",
   "metadata": {},
   "outputs": [
    {
     "name": "stdin",
     "output_type": "stream",
     "text": [
      "Enter a list of strings (e.g. ['abc', 'aba', 'xyz']):  \n"
     ]
    },
    {
     "name": "stdout",
     "output_type": "stream",
     "text": [
      "Invalid input. Please enter a valid list of strings.\n"
     ]
    },
    {
     "name": "stdin",
     "output_type": "stream",
     "text": [
      "Enter a list of strings (e.g. ['abc', 'aba', 'xyz']):  ['abc',123]\n"
     ]
    },
    {
     "name": "stdout",
     "output_type": "stream",
     "text": [
      "Invalid input. Please enter a list of strings.\n"
     ]
    },
    {
     "name": "stdin",
     "output_type": "stream",
     "text": [
      "Enter a list of strings (e.g. ['abc', 'aba', 'xyz']):  ['abc','aba,'ara','acf']\n"
     ]
    },
    {
     "name": "stdout",
     "output_type": "stream",
     "text": [
      "Invalid input. Please enter a valid list of strings.\n"
     ]
    },
    {
     "name": "stdin",
     "output_type": "stream",
     "text": [
      "Enter a list of strings (e.g. ['abc', 'aba', 'xyz']):  ['abc', 'aba', 'xyz']\n"
     ]
    },
    {
     "name": "stdout",
     "output_type": "stream",
     "text": [
      "Number of strings where length is 2 or more and first and last character are the same: 1\n"
     ]
    }
   ],
   "source": [
    "def count_strings(lst):\n",
    "    count = 0\n",
    "    for string in lst:\n",
    "        if len(string) >= 2 and string[0] == string[-1]:\n",
    "            count += 1\n",
    "    return count\n",
    "\n",
    "while True:\n",
    "    try:\n",
    "        user_input = input(\"Enter a list of strings (e.g. ['abc', 'aba', 'xyz']): \")\n",
    "        strings = eval(user_input)\n",
    "        if isinstance(strings, list) and all(isinstance(s, str) for s in strings):\n",
    "            break\n",
    "        else:\n",
    "            print(\"Invalid input. Please enter a list of strings.\")\n",
    "    except (SyntaxError, NameError):\n",
    "        print(\"Invalid input. Please enter a valid list of strings.\")\n",
    "\n",
    "result = count_strings(strings)\n",
    "\n",
    "print(f\"Number of strings where length is 2 or more and first and last character are the same: {result}\")"
   ]
  },
  {
   "cell_type": "markdown",
   "id": "9506af1b-4ac1-45c7-b324-c33c48c6eecf",
   "metadata": {},
   "source": [
    "### Explanation of `all()` and `isinstance()`\n",
    "\n",
    "| Function      | Purpose                                             | Syntax                                 | Returns `True` When                                      | Example                                                                                         |\n",
    "|---------------|-----------------------------------------------------|----------------------------------------|---------------------------------------------------------|-------------------------------------------------------------------------------------------------|\n",
    "| **`all()`**   | Checks if all elements in an iterable are `True`.   | `all(iterable)`                        | Every element is `True`, or the iterable is empty.      | `all([True, True]) -> True` <br> `all([True, False]) -> False` <br> `all([]) -> True`           |\n",
    "| **`isinstance()`** | Checks if an object is of a specified type.         | `isinstance(object, classinfo)`        | The object is an instance of the given class or tuple.  | `isinstance(10, int) -> True` <br> `isinstance(\"hello\", str) -> True` <br> `isinstance([], list) -> True` |\n",
    "\n",
    "---\n",
    "\n",
    "### Key Details of `all()`\n",
    "\n",
    "- **Purpose**: Checks if all elements in an iterable are logically `True`.\n",
    "- **Empty iterable**: Returns `True` because there are no `False` elements.\n",
    "\n",
    "**Examples:**\n",
    "```python\n",
    "all([True, True, True])  # True\n",
    "all([True, False, True])  # False\n",
    "all([])  # True\n",
    "all([1, 2, 3])  # True (all non-zero values)\n",
    "all([1, 0, 3])  # False (0 is False)\n",
    "```\n",
    "### Key Details of `isinstance()`\n",
    "- **Purpose**: Validates the type of an object.\n",
    "- **Supports tuples**: Checks if the object matches any type in a tuple of classes.\n",
    "\n",
    "**Examples:**\n",
    "\n",
    "```python\n",
    "\n",
    "isinstance(10, int)  # True\n",
    "isinstance(\"hello\", str)  # True\n",
    "isinstance([1, 2, 3], list)  # True\n",
    "isinstance(10.5, (int, float))  # True\n",
    "```\n",
    "### Using all() with isinstance()\n",
    "You can combine all() with isinstance() to validate all elements in a list belong to a specific type.\n",
    "\n",
    "\n",
    "**Example:**\n",
    "\n",
    "```python\n",
    "\n",
    "strings = [\"abc\", \"xyz\", \"123\"]\n",
    "if all(isinstance(s, str) for s in strings):\n",
    "    print(\"All elements are strings.\")  # Output: All elements are strings.\n",
    "else:\n",
    "    print(\"Not all elements are strings.\")\n",
    "```"
   ]
  },
  {
   "cell_type": "markdown",
   "id": "5fbdd2ba-f223-4d68-af60-7f9e1823daec",
   "metadata": {},
   "source": [
    "### 32) Python Program to Remove Duplicates from a List"
   ]
  },
  {
   "cell_type": "code",
   "execution_count": 63,
   "id": "b8c4a603-06ce-4f8e-b4fd-1541854acde1",
   "metadata": {},
   "outputs": [
    {
     "name": "stdout",
     "output_type": "stream",
     "text": [
      "List after removing duplicates: [1, 2, 3, 4, 5]\n"
     ]
    }
   ],
   "source": [
    "def remove_duplicates(lst):\n",
    "    return list(set(lst))\n",
    "\n",
    "my_list = [1, 2, 2, 3, 4, 4, 5]\n",
    "unique_list = remove_duplicates(my_list)\n",
    "print(\"List after removing duplicates:\", unique_list)"
   ]
  },
  {
   "cell_type": "markdown",
   "id": "de0518a9-3fca-42e1-ae04-d5ee829cd63a",
   "metadata": {},
   "source": [
    "### 33) Python Program to Check if a List is Empty"
   ]
  },
  {
   "cell_type": "code",
   "execution_count": 65,
   "id": "b0283183-21b1-483a-a1b1-2070d2dfe562",
   "metadata": {},
   "outputs": [
    {
     "name": "stdout",
     "output_type": "stream",
     "text": [
      "The list is not empty.\n"
     ]
    }
   ],
   "source": [
    "def is_list_empty(lst):\n",
    "    return len(lst) == 0\n",
    "\n",
    "my_list = [1,2]\n",
    "if is_list_empty(my_list):\n",
    "    print(\"The list is empty.\")\n",
    "else:\n",
    "    print(\"The list is not empty.\")"
   ]
  },
  {
   "cell_type": "markdown",
   "id": "2ba57cea-1217-408b-8d89-657c60428be8",
   "metadata": {},
   "source": [
    "### 34) Write a Python function that takes two lists and returns true if they have at least one common member."
   ]
  },
  {
   "cell_type": "code",
   "execution_count": 68,
   "id": "57a1179a-e648-4fdd-88cd-47709bd12a2c",
   "metadata": {},
   "outputs": [
    {
     "name": "stdout",
     "output_type": "stream",
     "text": [
      "Result :  True\n"
     ]
    }
   ],
   "source": [
    "def have_common_member(list1, list2):\n",
    "    for item in list1:\n",
    "        if item in list2:\n",
    "            return True\n",
    "    return False\n",
    "\n",
    "list1 = [1, 2, 3, 4]\n",
    "list2 = [5, 2, 7, 3]\n",
    "\n",
    "result = have_common_member(list1, list2)\n",
    "print(\"Result : \", result)"
   ]
  },
  {
   "cell_type": "markdown",
   "id": "67f8b1e9-df68-47ce-a500-e9db72df8f5b",
   "metadata": {},
   "source": [
    "### 35) Write a Python program to generate and print a list of first and last 5 elements where the values are square of numbers between 1 and 30. "
   ]
  },
  {
   "cell_type": "code",
   "execution_count": 71,
   "id": "240469f1-7182-4b79-bc46-853f2f01b0bb",
   "metadata": {},
   "outputs": [
    {
     "name": "stdout",
     "output_type": "stream",
     "text": [
      "First and last 5 elements of squares: [1, 4, 9, 16, 25, 676, 729, 784, 841, 900]\n"
     ]
    }
   ],
   "source": [
    "def generate_squares():\n",
    "    squares = [x**2 for x in range(1, 31)]\n",
    "    result = squares[:5] + squares[-5:]\n",
    "    return result\n",
    "\n",
    "result = generate_squares()\n",
    "print(\"First and last 5 elements of squares:\", result)"
   ]
  },
  {
   "cell_type": "markdown",
   "id": "f01e7660-7028-4570-ad37-c0ce52568d65",
   "metadata": {},
   "source": [
    "### 36) Write a Python function that takes a list and returns a new list with unique elements of the first list. "
   ]
  },
  {
   "cell_type": "code",
   "execution_count": 72,
   "id": "9967602c-19f3-4d44-88fb-d1db54f6b412",
   "metadata": {},
   "outputs": [
    {
     "name": "stdout",
     "output_type": "stream",
     "text": [
      "Original list: [1, 2, 2, 3, 4, 4, 5]\n",
      "List with unique elements: [1, 2, 3, 4, 5]\n"
     ]
    }
   ],
   "source": [
    "def get_unique_elements(lst):\n",
    "    return list(set(lst))\n",
    "\n",
    "original_list = [1, 2, 2, 3, 4, 4, 5]\n",
    "unique_list = get_unique_elements(original_list)\n",
    "print(\"Original list:\", original_list)\n",
    "print(\"List with unique elements:\", unique_list)"
   ]
  },
  {
   "cell_type": "markdown",
   "id": "bd789745-c538-4e05-a6ff-8259801259df",
   "metadata": {},
   "source": [
    "### 37) Write a Python program to convert a list of characters into a string. "
   ]
  },
  {
   "cell_type": "code",
   "execution_count": 73,
   "id": "50cd0d69-6c1c-4e93-8561-2c607fd9a787",
   "metadata": {},
   "outputs": [
    {
     "name": "stdout",
     "output_type": "stream",
     "text": [
      "Converted string: Hello World\n"
     ]
    }
   ],
   "source": [
    "def list_to_string(char_list):\n",
    "    return ''.join(char_list)\n",
    "\n",
    "char_list = ['H', 'e', 'l', 'l', 'o', ' ', 'W', 'o', 'r', 'l', 'd']\n",
    "result = list_to_string(char_list)\n",
    "print(\"Converted string:\", result)"
   ]
  },
  {
   "cell_type": "markdown",
   "id": "daf4c084-53c2-48f4-a158-a8c9897925a8",
   "metadata": {},
   "source": [
    "### 38) Write a Python program to select an item randomly from a list. "
   ]
  },
  {
   "cell_type": "code",
   "execution_count": 79,
   "id": "9312169c-3c3e-4eea-bc72-c9dbaac00f79",
   "metadata": {},
   "outputs": [
    {
     "name": "stdout",
     "output_type": "stream",
     "text": [
      "Randomly selected item: banana\n"
     ]
    }
   ],
   "source": [
    "import random\n",
    "\n",
    "def select_random_item(lst):\n",
    "    return random.choice(lst)\n",
    "\n",
    "\n",
    "my_list = [1, 2, 3, 4, 5, 'apple', 'banana']\n",
    "random_item = select_random_item(my_list)\n",
    "print(\"Randomly selected item:\", random_item)"
   ]
  },
  {
   "cell_type": "markdown",
   "id": "95971f22-c311-4ed2-8f52-f97f0b6dcc64",
   "metadata": {},
   "source": [
    "### 39) Write a Python program to find the second smallest number in a list."
   ]
  },
  {
   "cell_type": "code",
   "execution_count": 85,
   "id": "1a8acc58-73f0-47ef-879d-76ff09b2d8f0",
   "metadata": {},
   "outputs": [
    {
     "name": "stdout",
     "output_type": "stream",
     "text": [
      "Second smallest number: 1\n"
     ]
    }
   ],
   "source": [
    "def find_second_smallest(lst):\n",
    "    if len(lst) < 2:\n",
    "        return \"List must have at least two elements.\"\n",
    "    \n",
    "    unique_numbers = sorted(set(lst))\n",
    "    \n",
    "    if len(unique_numbers) < 2:\n",
    "        return \"No second smallest element; all elements are the same.\"\n",
    "    \n",
    "    return unique_numbers[1]\n",
    "\n",
    "my_list = [4, 4, 1, 3, 2, 2, 1, -1]\n",
    "result = find_second_smallest(my_list)\n",
    "print(\"Second smallest number:\", result)"
   ]
  },
  {
   "cell_type": "markdown",
   "id": "a0d06441-de60-4bc3-b758-82ff160c21e0",
   "metadata": {},
   "source": [
    "### 40) Write a Python program to get unique values from a list"
   ]
  },
  {
   "cell_type": "code",
   "execution_count": 87,
   "id": "5550f4e1-a0a2-4449-8f61-97b81e7cedf9",
   "metadata": {},
   "outputs": [
    {
     "name": "stdout",
     "output_type": "stream",
     "text": [
      "Unique values : [1, 2, 3, 4, 5]\n"
     ]
    }
   ],
   "source": [
    "def get_unique_values(lst):\n",
    "    unique_list = []\n",
    "    for item in lst:\n",
    "        if item not in unique_list:\n",
    "            unique_list.append(item)\n",
    "    return unique_list\n",
    "\n",
    "my_list = [1, 2, 2, 3, 4, 4, 5]\n",
    "unique_values = get_unique_values(my_list)\n",
    "print(\"Unique values :\", unique_values)"
   ]
  },
  {
   "cell_type": "markdown",
   "id": "cb8297ee-d083-445a-b8f2-18a935e60ecf",
   "metadata": {},
   "source": [
    "### 41) Write a Python program to check whether a list contains a sub list "
   ]
  },
  {
   "cell_type": "code",
   "execution_count": 88,
   "id": "b354d282-36d0-4115-bb50-592735a3e359",
   "metadata": {},
   "outputs": [
    {
     "name": "stdout",
     "output_type": "stream",
     "text": [
      "Does the list contain the sublist?  True\n"
     ]
    }
   ],
   "source": [
    "def contains_sublist(lst, sublist):\n",
    "    for i in range(len(lst) - len(sublist) + 1):\n",
    "        if lst[i:i+len(sublist)] == sublist:\n",
    "            return True\n",
    "    return False\n",
    "\n",
    "main_list = [1, 2, 3, 4, 5, 6, 3, 4]\n",
    "sub_list = [3, 4]\n",
    "\n",
    "result = contains_sublist(main_list, sub_list)\n",
    "print(\"Does the list contain the sublist? \", result)"
   ]
  },
  {
   "cell_type": "markdown",
   "id": "4cf58424-8104-4577-a88d-8c3f57cf9d94",
   "metadata": {},
   "source": [
    "### 42) Write a Python program to split a list into different variables. \n"
   ]
  },
  {
   "cell_type": "code",
   "execution_count": 91,
   "id": "6cc17d42-8916-4381-bb68-e073e311067c",
   "metadata": {},
   "outputs": [
    {
     "name": "stdout",
     "output_type": "stream",
     "text": [
      "10\n",
      "20\n",
      "30\n",
      "40\n",
      "50\n"
     ]
    }
   ],
   "source": [
    "def split_list_into_variables(lst):\n",
    "    for i, var in enumerate(lst):\n",
    "        globals()[f\"var{i+1}\"] = var\n",
    "\n",
    "my_list = [10, 20, 30, 40, 50]\n",
    "split_list_into_variables(my_list)\n",
    "\n",
    "print(var1)  \n",
    "print(var2)  \n",
    "print(var3)  \n",
    "print(var4)  \n",
    "print(var5) "
   ]
  },
  {
   "cell_type": "markdown",
   "id": "c6c8d6e4-b0ef-4a8c-9acf-d7e0aa5fd861",
   "metadata": {},
   "source": [
    "### **Understanding `globals()` and `locals()` in Python**\n",
    "\n",
    "Both `globals()` and `locals()` are functions in Python that provide access to the variable namespaces, allowing you to interact with the variables in the global and local scopes, respectively.\n",
    "\n",
    "#### **1. `globals()`**:\n",
    "\n",
    "- **What it does**: \n",
    "  - `globals()` returns a dictionary representing the current global symbol table. The global symbol table contains all information about the global scope, including variables, functions, and imported modules.\n",
    "  - You can access and modify global variables using the dictionary returned by `globals()`.\n",
    "\n",
    "- **Usage**:\n",
    "  - `globals()` is primarily used when you need to create or modify global variables dynamically or inspect global scope content.\n",
    "  \n",
    "- **Example**:\n",
    "\n",
    "  ```python\n",
    "  x = 10  # global variable\n",
    "\n",
    "  def modify_global():\n",
    "      globals()['x'] = 20  # Modifying the global variable 'x' using globals()\n",
    "\n",
    "  print(x)  # Output: 10\n",
    "  modify_global()\n",
    "  print(x)  # Output: 20\n",
    "  ```\n",
    "\n",
    "  In this example, we modify the global variable `x` within a function using `globals()`. The changes persist even after the function call because `x` was a global variable.\n",
    "\n",
    "- **Important**:\n",
    "  - When you modify `globals()`, it affects the global scope. Any change you make here will persist in the global scope and can be accessed outside the function.\n",
    "  - `globals()` can also be used to dynamically create global variables (like `var1`, `var2`, etc.) as shown in your earlier example.\n",
    "\n",
    "---\n",
    "\n",
    "#### **2. `locals()`**:\n",
    "\n",
    "- **What it does**: \n",
    "  - `locals()` returns a dictionary representing the current local symbol table. The local symbol table contains information about variables, functions, and objects in the local scope (i.e., within a function or method).\n",
    "  - In a function, `locals()` reflects the current state of local variables and their values.\n",
    "\n",
    "- **Usage**:\n",
    "  - `locals()` is useful when you need to inspect or interact with local variables dynamically inside functions or methods.\n",
    "  - However, **modifying `locals()` directly is not always recommended** because changes made to the dictionary returned by `locals()` may not always update the actual local variables in some cases (depending on the Python implementation).\n",
    "\n",
    "- **Example**:\n",
    "\n",
    "  ```python\n",
    "  def example_function():\n",
    "      a = 10\n",
    "      b = 20\n",
    "      print(locals())  # Output: {'a': 10, 'b': 20}\n",
    "  \n",
    "  example_function()\n",
    "  ```\n",
    "\n",
    "  Here, `locals()` returns a dictionary containing the local variables `a` and `b` and their respective values.\n",
    "\n",
    "- **Important**:\n",
    "  - You **cannot reliably modify local variables using `locals()`**, especially inside functions. Changes made to the dictionary returned by `locals()` might not propagate back to the actual local variables (although, in some cases, changes to `locals()` may work depending on the Python implementation).\n",
    "  - `locals()` is more suited for inspection of local variables rather than modification.\n",
    "\n",
    "---\n",
    "\n",
    "### **Key Differences Between `globals()` and `locals()`**:\n",
    "\n",
    "| **Aspect**        | **`globals()`**                          | **`locals()`**                         |\n",
    "|-------------------|------------------------------------------|----------------------------------------|\n",
    "| **Scope**         | Refers to the **global scope** (variables, functions, imported modules in the module or script). | Refers to the **local scope** (variables inside a function or method). |\n",
    "| **Return Value**  | Returns a dictionary of global variables. | Returns a dictionary of local variables. |\n",
    "| **Modifying Values** | Changes will directly affect the global scope. | Changes may not always affect the actual local variables (in some cases, they don't). |\n",
    "| **Usage**         | Useful for dynamically creating or modifying global variables. | Useful for inspecting the local variables of a function or method. |\n",
    "| **Access**        | Global variables in the current module or script. | Variables inside a function or method where `locals()` is called. |\n",
    "\n",
    "---\n",
    "\n",
    "### **When to Use `globals()` vs `locals()`**:\n",
    "\n",
    "1. **`globals()`**:\n",
    "   - Use when you want to modify global variables or inspect the global scope.\n",
    "   - Can be used for dynamically creating global variables (like `var1`, `var2`, etc.).\n",
    "\n",
    "2. **`locals()`**:\n",
    "   - Use when you want to inspect the variables within a function or method.\n",
    "   - Not ideal for modifying local variables, as changes to the dictionary may not always be reflected in the actual variables.\n",
    "\n",
    "---\n",
    "\n",
    "### **Example of `globals()` with Dynamic Variable Creation**:\n",
    "You can use `globals()` to dynamically create variables in the global scope, like so:\n",
    "\n",
    "```python\n",
    "def create_dynamic_vars(lst):\n",
    "    for i, item in enumerate(lst):\n",
    "        globals()[f\"dynamic_var_{i+1}\"] = item\n",
    "\n",
    "my_list = [100, 200, 300]\n",
    "create_dynamic_vars(my_list)\n",
    "\n",
    "print(dynamic_var_1)  # Output: 100\n",
    "print(dynamic_var_2)  # Output: 200\n",
    "print(dynamic_var_3)  # Output: 300\n",
    "```\n",
    "\n",
    "This code dynamically creates variables `dynamic_var_1`, `dynamic_var_2`, etc., and assigns values from the list to those variables.\n",
    "\n",
    "---\n",
    "\n",
    "### **Limitations**:\n",
    "- Modifying `locals()` can be tricky, as it doesn't always reflect changes in local variables.\n",
    "- It's generally better to use data structures like dictionaries or lists to manage data dynamically rather than modifying global or local variables directly.\n",
    "\n",
    "---\n",
    "\n",
    "### **Summary**:\n",
    "- **`globals()`**: Used to interact with the global namespace and dynamically modify global variables.\n",
    "- **`locals()`**: Used to interact with the local namespace (usually within a function) but with limitations on modification."
   ]
  },
  {
   "cell_type": "markdown",
   "id": "15ef9168-f166-45eb-9154-5a913b083ddf",
   "metadata": {},
   "source": [
    "### 43) What is tuple? Difference between list and tuple. "
   ]
  },
  {
   "cell_type": "markdown",
   "id": "15bc183a-dd5d-4d3f-bd9d-03ab979d4501",
   "metadata": {},
   "source": [
    "### **What is a Tuple?**\n",
    "\n",
    "A **tuple** is an ordered collection of elements, similar to a list, but with one key difference: **tuples are immutable**. This means that once a tuple is created, you cannot modify, add, or remove elements from it.\n",
    "\n",
    "#### **Tuple Characteristics**:\n",
    "- **Ordered**: The elements in a tuple have a defined order, and this order is maintained.\n",
    "- **Immutable**: Once created, you cannot change the values or size of the tuple.\n",
    "- **Heterogeneous**: Tuples can store elements of different data types (integers, strings, lists, etc.).\n",
    "- **Indexing**: Tuples support indexing, so you can access elements using indices (like lists).\n",
    "- **Parentheses**: A tuple is defined by enclosing elements in **parentheses** `()`.\n",
    "  \n",
    "#### **Example of a Tuple**:\n",
    "```python\n",
    "my_tuple = (1, \"hello\", 3.14, [1, 2, 3])\n",
    "print(my_tuple)  # Output: (1, \"hello\", 3.14, [1, 2, 3])\n",
    "```\n",
    "\n",
    "---\n",
    "\n",
    "### **Difference Between List and Tuple**:\n",
    "\n",
    "| **Aspect**        | **List**                                     | **Tuple**                                   |\n",
    "|-------------------|----------------------------------------------|---------------------------------------------|\n",
    "| **Mutability**    | Mutable: Elements can be modified, added, or removed. | Immutable: Once created, elements cannot be modified. |\n",
    "| **Syntax**        | Defined using square brackets `[]`.         | Defined using parentheses `()`.             |\n",
    "| **Performance**   | Slower than tuples because of the mutability (more overhead). | Faster than lists due to immutability and fixed size. |\n",
    "| **Methods**       | Lists have many methods like `append()`, `remove()`, `pop()`, `extend()`, etc. | Tuples have very few methods, mainly `count()` and `index()`. |\n",
    "| **Use Case**      | Suitable when you need a collection that can change during runtime. | Suitable when you need an immutable, read-only collection. |\n",
    "| **Memory Usage**  | Lists consume more memory due to the overhead required for mutability. | Tuples use less memory because of their immutability. |\n",
    "| **Packing/Unpacking** | You can pack and unpack lists like tuples. | Tuples are often used for packing and unpacking data. |\n",
    "\n",
    "---\n",
    "\n",
    "### **Code Examples**:\n",
    "\n",
    "#### **List**:\n",
    "```python\n",
    "my_list = [1, 2, 3, 4]\n",
    "my_list[1] = 10  # Modifying a list\n",
    "my_list.append(5)  # Adding an element\n",
    "print(my_list)  # Output: [1, 10, 3, 4, 5]\n",
    "```\n",
    "\n",
    "#### **Tuple**:\n",
    "```python\n",
    "my_tuple = (1, 2, 3, 4)\n",
    "# my_tuple[1] = 10  # This would raise an error because tuples are immutable\n",
    "print(my_tuple)  # Output: (1, 2, 3, 4)\n",
    "```\n",
    "\n",
    "---\n",
    "\n",
    "### **When to Use Tuple vs List**:\n",
    "- Use a **tuple** when you have a collection of items that should not be changed (for example, constant data or a fixed set of values). This is useful when you need **data integrity** and want to avoid accidental changes.\n",
    "- Use a **list** when you expect the data to change during the program's execution, such as when you need to **add, remove, or modify elements** dynamically. \n",
    "\n",
    "---\n",
    "\n",
    "### **Summary**:\n",
    "- Tuples are immutable, while lists are mutable.\n",
    "- Tuples are generally faster and use less memory than lists.\n",
    "- Tuples are better for fixed data, while lists are suited for dynamic data."
   ]
  },
  {
   "cell_type": "markdown",
   "id": "163083e7-467e-4c0f-9cfa-bf58b2ae47ab",
   "metadata": {},
   "source": [
    "### 44) Write a Python program to create a tuple with different data types."
   ]
  },
  {
   "cell_type": "code",
   "execution_count": 92,
   "id": "e23a4060-5882-4fb1-b5e2-4290c117ab3b",
   "metadata": {},
   "outputs": [
    {
     "name": "stdout",
     "output_type": "stream",
     "text": [
      "(10, 'Hello', 3.14, True, [1, 2, 3], ('Nested', 'Tuple'))\n"
     ]
    }
   ],
   "source": [
    "my_tuple = (10, \"Hello\", 3.14, True, [1, 2, 3], (\"Nested\", \"Tuple\"))\n",
    "\n",
    "print(my_tuple)"
   ]
  },
  {
   "cell_type": "markdown",
   "id": "9114d829-c293-40b2-8172-cb57823bf54e",
   "metadata": {},
   "source": [
    "### 45) Write a Python program to unzip a list of tuples into individual lists."
   ]
  },
  {
   "cell_type": "code",
   "execution_count": 94,
   "id": "7e985204-bfc9-4dab-84e9-569ff141932a",
   "metadata": {},
   "outputs": [
    {
     "name": "stdout",
     "output_type": "stream",
     "text": [
      "List 1: [1, 2, 3]\n",
      "List 2: ['a', 'b', 'c']\n"
     ]
    }
   ],
   "source": [
    "list_of_tuples = [(1, 'a'), (2, 'b'), (3, 'c')]\n",
    "list1, list2 = zip(*list_of_tuples)\n",
    "list1 = list(list1)\n",
    "list2 = list(list2)\n",
    "print(\"List 1:\", list1)\n",
    "print(\"List 2:\", list2)\n"
   ]
  },
  {
   "cell_type": "markdown",
   "id": "54427779-a581-489e-9791-6dba19d75b69",
   "metadata": {},
   "source": [
    "### **`zip()` Function in Python**\n",
    "\n",
    "The `zip()` function in Python is used to combine multiple iterables (like lists, tuples, etc.) element by element into a single iterable of tuples. It allows you to pair elements from each iterable in a one-to-one fashion.\n",
    "\n",
    "### **Syntax**:\n",
    "\n",
    "```python\n",
    "zip(iterable1, iterable2, ..., iterableN)\n",
    "```\n",
    "\n",
    "- **Parameters**:\n",
    "  - `iterable1, iterable2, ..., iterableN`: These are the iterables (such as lists, tuples, strings, etc.) you want to zip together.\n",
    "  \n",
    "- **Returns**:\n",
    "  - An iterator of tuples, where each tuple contains one element from each of the input iterables, paired by their respective positions.\n",
    "\n",
    "---\n",
    "\n",
    "### **How `zip()` Works**:\n",
    "\n",
    "The `zip()` function pairs the elements of the provided iterables at the same index into tuples. If the iterables have unequal lengths, `zip()` stops creating pairs when the shortest iterable is exhausted.\n",
    "\n",
    "---\n",
    "\n",
    "### **Examples**:\n",
    "\n",
    "1. **Basic Example**:\n",
    "   ```python\n",
    "   list1 = [1, 2, 3]\n",
    "   list2 = ['a', 'b', 'c']\n",
    "   \n",
    "   result = zip(list1, list2)\n",
    "   print(list(result))  # Output: [(1, 'a'), (2, 'b'), (3, 'c')]\n",
    "   ```\n",
    "\n",
    "   - Here, `zip()` pairs elements from `list1` and `list2` based on their positions: `(1, 'a')`, `(2, 'b')`, `(3, 'c')`.\n",
    "\n",
    "2. **Unzipping**:\n",
    "   To \"unzip\" (i.e., separate the zipped values back into individual lists or tuples), you can use the `*` unpacking operator.\n",
    "   \n",
    "   ```python\n",
    "   list1 = [1, 2, 3]\n",
    "   list2 = ['a', 'b', 'c']\n",
    "   \n",
    "   zipped = zip(list1, list2)\n",
    "   list1_unzipped, list2_unzipped = zip(*zipped)\n",
    "   \n",
    "   print(list(list1_unzipped))  # Output: [1, 2, 3]\n",
    "   print(list(list2_unzipped))  # Output: ['a', 'b', 'c']\n",
    "   ```\n",
    "\n",
    "   - The `*zipped` unpacks the zipped object into separate lists, which are then assigned back to `list1_unzipped` and `list2_unzipped`.\n",
    "\n",
    "3. **Unequal Lengths**:\n",
    "   If the input iterables have different lengths, `zip()` will stop at the shortest iterable.\n",
    "\n",
    "   ```python\n",
    "   list1 = [1, 2, 3]\n",
    "   list2 = ['a', 'b']\n",
    "   \n",
    "   result = zip(list1, list2)\n",
    "   print(list(result))  # Output: [(1, 'a'), (2, 'b')]\n",
    "   ```\n",
    "\n",
    "   - Here, since `list2` has only 2 elements, `zip()` stops after pairing `(1, 'a')` and `(2, 'b')`.\n",
    "\n",
    "4. **Zipping Multiple Iterables**:\n",
    "   You can zip more than two iterables together.\n",
    "\n",
    "   ```python\n",
    "   list1 = [1, 2, 3]\n",
    "   list2 = ['a', 'b', 'c']\n",
    "   list3 = ['x', 'y', 'z']\n",
    "   \n",
    "   result = zip(list1, list2, list3)\n",
    "   print(list(result))  # Output: [(1, 'a', 'x'), (2, 'b', 'y'), (3, 'c', 'z')]\n",
    "   ```\n",
    "\n",
    "   - The result is a list of tuples where each tuple contains one element from each iterable.\n",
    "\n",
    "---\n",
    "\n",
    "### **Key Features of `zip()`**:\n",
    "\n",
    "1. **Returns an Iterator**:\n",
    "   - `zip()` does not return a list. Instead, it returns a `zip` object, which is an iterator. You can convert it to a list or another collection if needed.\n",
    "\n",
    "2. **Stops at the Shortest Iterable**:\n",
    "   - When zipping multiple iterables of different lengths, the `zip()` function stops once the shortest iterable is exhausted, discarding the remaining elements of longer iterables.\n",
    "\n",
    "3. **Efficient Memory Use**:\n",
    "   - Since `zip()` returns an iterator, it is memory-efficient compared to creating a list directly, especially for large datasets.\n",
    "\n",
    "4. **Can Be Used with More than Two Iterables**:\n",
    "   - You can zip more than two iterables together. This is useful when you have multiple sequences of related data.\n",
    "\n",
    "---\n",
    "\n",
    "### **Common Use Cases**:\n",
    "\n",
    "1. **Pairing Elements**:\n",
    "   - `zip()` is often used to pair corresponding elements from two or more lists.\n",
    "\n",
    "   ```python\n",
    "   names = ['Alice', 'Bob', 'Charlie']\n",
    "   ages = [25, 30, 35]\n",
    "   \n",
    "   paired = zip(names, ages)\n",
    "   print(list(paired))  # Output: [('Alice', 25), ('Bob', 30), ('Charlie', 35)]\n",
    "   ```\n",
    "\n",
    "2. **Creating Dictionaries**:\n",
    "   - You can easily convert two lists into a dictionary by using `zip()`.\n",
    "\n",
    "   ```python\n",
    "   keys = ['name', 'age', 'city']\n",
    "   values = ['Alice', 25, 'New York']\n",
    "   \n",
    "   dictionary = dict(zip(keys, values))\n",
    "   print(dictionary)  # Output: {'name': 'Alice', 'age': 25, 'city': 'New York'}\n",
    "   ```\n",
    "\n",
    "3. **Matrix Transposition**:\n",
    "   - `zip()` is useful for transposing matrices (switching rows and columns).\n",
    "\n",
    "   ```python\n",
    "   matrix = [\n",
    "       [1, 2, 3],\n",
    "       [4, 5, 6],\n",
    "       [7, 8, 9]\n",
    "   ]\n",
    "   \n",
    "   transposed = zip(*matrix)\n",
    "   print(list(transposed))  # Output: [(1, 4, 7), (2, 5, 8), (3, 6, 9)]\n",
    "   ```\n",
    "\n",
    "---\n",
    "\n",
    "### **Limitations**:\n",
    "- **Shorter Iterables**: If the iterables have different lengths, `zip()` stops at the shortest one. If you want to fill missing values in shorter iterables, you can use `itertools.zip_longest()` instead.\n",
    "\n",
    "- **Single Iterable**: If you pass only one iterable, `zip()` will still return a single-item tuple for each element. However, this is rarely used since other operations like `map()` might be more suitable.\n",
    "\n",
    "---\n",
    "\n",
    "### **Summary**:\n",
    "- The `zip()` function is a powerful tool for combining multiple iterables element by element.\n",
    "- It returns an iterator of tuples, making it memory efficient.\n",
    "- It can handle multiple iterables and can be used for tasks like pairing data, transposing matrices, and creating dictionaries.\n"
   ]
  },
  {
   "cell_type": "markdown",
   "id": "0c5fbd30-0cae-47b1-871d-bb2149b057e3",
   "metadata": {},
   "source": [
    "The `*` operator in Python is used for **unpacking**. When used with the `zip()` function, it unpacks the list of tuples into individual arguments.\n",
    "\n",
    "### **How the `*` Works in `zip(*list_of_tuples)`**:\n",
    "\n",
    "When you pass a list of tuples to `zip()`, you want to \"unzip\" the tuples into separate lists. Here's how it works:\n",
    "\n",
    "1. **Without the `*`**:\n",
    "   - If you pass the list of tuples directly to `zip(list_of_tuples)`, Python treats the whole list as a single argument. It would not separate the tuples into individual lists.\n",
    "\n",
    "   Example:\n",
    "   ```python\n",
    "   list_of_tuples = [(1, 'a'), (2, 'b'), (3, 'c')]\n",
    "   print(zip(list_of_tuples))  # <zip object at 0x...>\n",
    "   ```\n",
    "\n",
    "2. **With the `*` (Unpacking)**:\n",
    "   - The `*` operator unpacks the list of tuples into individual arguments. In the example, it essentially passes each tuple as a separate argument to `zip()`, allowing `zip()` to process the tuples element-wise and \"unzip\" them into separate lists.\n",
    "\n",
    "   Example:\n",
    "   ```python\n",
    "   list_of_tuples = [(1, 'a'), (2, 'b'), (3, 'c')]\n",
    "   list1, list2 = zip(*list_of_tuples)\n",
    "   print(list1)  # (1, 2, 3)\n",
    "   print(list2)  # ('a', 'b', 'c')\n",
    "   ```\n",
    "\n",
    "### **Why Use the `*` Operator**:\n",
    "\n",
    "- The `*` operator allows `zip()` to unpack the list of tuples, meaning that each individual tuple gets passed as a separate argument to `zip()`. This allows `zip()` to combine the first elements of each tuple into one list, the second elements into another, and so on.\n",
    "  \n",
    "- Without the `*`, you would have a single argument (the list of tuples), and `zip()` would not be able to split the values into separate lists.\n",
    "\n",
    "### **Example Without `*`**:\n",
    "\n",
    "```python\n",
    "list_of_tuples = [(1, 'a'), (2, 'b'), (3, 'c')]\n",
    "# This would not work as expected:\n",
    "print(zip(list_of_tuples))  # Output: <zip object at 0x...>\n",
    "```\n",
    "\n",
    "The `*` allows us to unpack the list into individual elements for `zip()` to process them correctly."
   ]
  },
  {
   "cell_type": "markdown",
   "id": "faf31d1b-70a7-48f3-88de-14d7eab61cbb",
   "metadata": {},
   "source": [
    "### 46) Write a Python program to convert a list of tuples into a dictionary."
   ]
  },
  {
   "cell_type": "code",
   "execution_count": 95,
   "id": "5406081a-8ba5-4999-acaf-35ca0e4e84ec",
   "metadata": {},
   "outputs": [
    {
     "name": "stdout",
     "output_type": "stream",
     "text": [
      "{'a': 1, 'b': 2, 'c': 3}\n"
     ]
    }
   ],
   "source": [
    "list_of_tuples = [('a', 1), ('b', 2), ('c', 3)]\n",
    "\n",
    "result_dict = dict(list_of_tuples)\n",
    "\n",
    "print(result_dict)"
   ]
  },
  {
   "cell_type": "markdown",
   "id": "ef784bcf-b671-44b7-855b-0f530e59371d",
   "metadata": {},
   "source": [
    "### 47) How to Create a Dictionary Using Tuples in Python:\n",
    "\n",
    "You can create a dictionary using tuples in Python by converting a list of tuples (or just a single tuple) into a dictionary. Each tuple must have exactly two elements: the first element will be the **key**, and the second element will be the **value**.\n",
    "\n",
    "### **Methods to Create a Dictionary Using Tuples**:\n",
    "\n",
    "#### 1. **Using a List of Tuples**:\n",
    "\n",
    "You can directly use a list of tuples, where each tuple contains two elements: a key-value pair. You can pass this list to the `dict()` constructor to create a dictionary.\n",
    "\n",
    "```python\n",
    "# List of tuples\n",
    "list_of_tuples = [('a', 1), ('b', 2), ('c', 3)]\n",
    "\n",
    "# Convert list of tuples into dictionary\n",
    "my_dict = dict(list_of_tuples)\n",
    "\n",
    "print(my_dict)\n",
    "```\n",
    "\n",
    "**Output**:\n",
    "```\n",
    "{'a': 1, 'b': 2, 'c': 3}\n",
    "```\n",
    "\n",
    "#### 2. **Using Tuple Assignment**:\n",
    "\n",
    "You can manually create key-value pairs from tuples using a loop or unpacking. Here’s an example:\n",
    "\n",
    "```python\n",
    "# Tuple containing key-value pairs\n",
    "tuple_of_keys_values = ('a', 1), ('b', 2), ('c', 3)\n",
    "\n",
    "# Creating an empty dictionary\n",
    "my_dict = {}\n",
    "\n",
    "# Adding items from tuples to dictionary\n",
    "for key, value in tuple_of_keys_values:\n",
    "    my_dict[key] = value\n",
    "\n",
    "print(my_dict)\n",
    "```\n",
    "\n",
    "**Output**:\n",
    "```\n",
    "{'a': 1, 'b': 2, 'c': 3}\n",
    "```\n",
    "\n",
    "#### 3. **Using Tuple Unpacking and Dictionary Comprehension**:\n",
    "\n",
    "You can also use dictionary comprehension for a more compact approach:\n",
    "\n",
    "```python\n",
    "# List of tuples\n",
    "list_of_tuples = [('a', 1), ('b', 2), ('c', 3)]\n",
    "\n",
    "# Creating dictionary using comprehension\n",
    "my_dict = {key: value for key, value in list_of_tuples}\n",
    "\n",
    "print(my_dict)\n",
    "```\n",
    "\n",
    "**Output**:\n",
    "```\n",
    "{'a': 1, 'b': 2, 'c': 3}\n",
    "```\n",
    "\n",
    "### **Summary**:\n",
    "- The most common way to create a dictionary from tuples is to use `dict()` with a list of tuples, where each tuple has two elements.\n",
    "- Alternatively, you can manually add key-value pairs using a loop or comprehension.\n"
   ]
  },
  {
   "cell_type": "markdown",
   "id": "2fccb948-24b1-408c-9e02-3d386e88142e",
   "metadata": {},
   "source": [
    "### 48) Write a Python script to sort (ascending and descending) a dictionary by value."
   ]
  },
  {
   "cell_type": "code",
   "execution_count": 96,
   "id": "609ad44d-f649-42db-80c6-d995f501598b",
   "metadata": {},
   "outputs": [
    {
     "name": "stdout",
     "output_type": "stream",
     "text": [
      "Dictionary sorted by value (ascending): {'a': 10, 'c': 20, 'b': 30, 'd': 40}\n",
      "Dictionary sorted by value (descending): {'d': 40, 'b': 30, 'c': 20, 'a': 10}\n"
     ]
    }
   ],
   "source": [
    "my_dict = {'a': 10, 'b': 30, 'c': 20, 'd': 40}\n",
    "\n",
    "sorted_dict_ascending = dict(sorted(my_dict.items(), key=lambda item: item[1]))\n",
    "\n",
    "sorted_dict_descending = dict(sorted(my_dict.items(), key=lambda item: item[1], reverse=True))\n",
    "\n",
    "print(\"Dictionary sorted by value (ascending):\", sorted_dict_ascending)\n",
    "print(\"Dictionary sorted by value (descending):\", sorted_dict_descending)"
   ]
  },
  {
   "cell_type": "markdown",
   "id": "7d4937d0-51e0-4526-89c9-cb30bb0ea9c9",
   "metadata": {},
   "source": [
    "### 49) Write a Python script to concatenate following dictionaries to create a new one. "
   ]
  },
  {
   "cell_type": "code",
   "execution_count": 97,
   "id": "a2b1ed02-029e-4596-a19e-0127963f725a",
   "metadata": {},
   "outputs": [
    {
     "name": "stdout",
     "output_type": "stream",
     "text": [
      "Concatenated Dictionary: {'a': 1, 'b': 2, 'c': 3, 'd': 4, 'e': 5, 'f': 6}\n"
     ]
    }
   ],
   "source": [
    "dict1 = {'a': 1, 'b': 2}\n",
    "dict2 = {'c': 3, 'd': 4}\n",
    "dict3 = {'e': 5, 'f': 6}\n",
    "\n",
    "result_dict = {}\n",
    "\n",
    "for d in [dict1, dict2, dict3]:\n",
    "    result_dict.update(d)\n",
    "\n",
    "print(\"Concatenated Dictionary:\", result_dict)"
   ]
  },
  {
   "cell_type": "code",
   "execution_count": 98,
   "id": "29cba76e-399e-4884-ac8f-aab413ce0758",
   "metadata": {},
   "outputs": [
    {
     "name": "stdout",
     "output_type": "stream",
     "text": [
      "Concatenated Dictionary: {'a': 1, 'b': 2, 'c': 3, 'd': 4, 'e': 5, 'f': 6}\n"
     ]
    }
   ],
   "source": [
    "dict1 = {'a': 1, 'b': 2}\n",
    "dict2 = {'c': 3, 'd': 4}\n",
    "dict3 = {'e': 5, 'f': 6}\n",
    "\n",
    "result_dict = {**dict1, **dict2, **dict3}\n",
    "\n",
    "print(\"Concatenated Dictionary:\", result_dict)"
   ]
  },
  {
   "cell_type": "markdown",
   "id": "92952f46-3625-4071-862b-801c29b87000",
   "metadata": {},
   "source": [
    "The `**` operator in Python is used for **unpacking dictionaries**. It takes all the key-value pairs from a dictionary and makes them available to another operation, such as creating a new dictionary or passing arguments to a function.\n",
    "\n",
    "### **Uses of `**` in Python:**\n",
    "\n",
    "---\n",
    "\n",
    "### **1. Dictionary Unpacking**\n",
    "You can use `**` to merge or unpack dictionaries into a new one.\n",
    "\n",
    "#### Example:\n",
    "```python\n",
    "dict1 = {'a': 1, 'b': 2}\n",
    "dict2 = {'c': 3, 'd': 4}\n",
    "\n",
    "# Using ** to merge dictionaries\n",
    "merged_dict = {**dict1, **dict2}\n",
    "\n",
    "print(merged_dict)\n",
    "```\n",
    "\n",
    "**Output:**\n",
    "```\n",
    "{'a': 1, 'b': 2, 'c': 3, 'd': 4}\n",
    "```\n",
    "\n",
    "#### How It Works:\n",
    "- `**dict1` unpacks all key-value pairs from `dict1`.\n",
    "- `**dict2` unpacks all key-value pairs from `dict2`.\n",
    "- Together, they form the `merged_dict`.\n",
    "\n",
    "---\n",
    "\n",
    "### **2. Passing Keyword Arguments to Functions**\n",
    "The `**` operator can also unpack a dictionary and pass its key-value pairs as named arguments to a function.\n",
    "\n",
    "#### Example:\n",
    "```python\n",
    "def greet(name, age):\n",
    "    print(f\"Hello, {name}. You are {age} years old.\")\n",
    "\n",
    "# Dictionary containing arguments\n",
    "person = {'name': 'Alice', 'age': 25}\n",
    "\n",
    "# Using ** to pass dictionary values as arguments\n",
    "greet(**person)\n",
    "```\n",
    "\n",
    "**Output:**\n",
    "```\n",
    "Hello, Alice. You are 25 years old.\n",
    "```\n",
    "\n",
    "#### How It Works:\n",
    "- The `**person` unpacks the dictionary `person` and passes its keys (`name`, `age`) as argument names and their corresponding values as argument values.\n",
    "\n",
    "---\n",
    "\n",
    "### **3. Overriding Values in Merging**\n",
    "When merging dictionaries, later dictionaries overwrite the keys from earlier ones if there are duplicates.\n",
    "\n",
    "#### Example:\n",
    "```python\n",
    "dict1 = {'a': 1, 'b': 2}\n",
    "dict2 = {'b': 99, 'c': 3}\n",
    "\n",
    "# Using ** to merge\n",
    "result = {**dict1, **dict2}\n",
    "\n",
    "print(result)\n",
    "```\n",
    "\n",
    "**Output:**\n",
    "```\n",
    "{'a': 1, 'b': 99, 'c': 3}\n",
    "```\n",
    "\n",
    "---\n",
    "\n",
    "### **Key Points:**\n",
    "- `**` is specifically used for dictionaries.\n",
    "- It works similarly to `*`, which is used for unpacking lists or tuples.\n",
    "- It’s particularly useful for merging dictionaries and passing named arguments dynamically to functions.\n",
    "- Introduced in Python 3.5 for dictionary unpacking."
   ]
  },
  {
   "cell_type": "markdown",
   "id": "922af207-3dad-4578-96b0-d27e8947e648",
   "metadata": {},
   "source": [
    "The `*` operator in Python is used for **unpacking iterable objects** (like lists, tuples, sets) or for handling variable-length arguments in functions. Here's a detailed explanation of how it works:\n",
    "\n",
    "---\n",
    "\n",
    "### **Uses of `*` in Python:**\n",
    "\n",
    "---\n",
    "\n",
    "### **1. Unpacking Iterables**\n",
    "The `*` operator can unpack elements from a list, tuple, or set into separate variables or for further operations.\n",
    "\n",
    "#### Example:\n",
    "```python\n",
    "numbers = [1, 2, 3, 4]\n",
    "\n",
    "# Unpacking list into separate elements\n",
    "a, b, *rest = numbers\n",
    "print(a, b, rest)\n",
    "```\n",
    "\n",
    "**Output:**\n",
    "```\n",
    "1 2 [3, 4]\n",
    "```\n",
    "\n",
    "#### How It Works:\n",
    "- `a` gets the first element of the list.\n",
    "- `b` gets the second element.\n",
    "- `*rest` collects the remaining elements into a new list.\n",
    "\n",
    "---\n",
    "\n",
    "### **2. Passing Elements to Functions**\n",
    "You can use `*` to pass elements of a list or tuple as individual arguments to a function.\n",
    "\n",
    "#### Example:\n",
    "```python\n",
    "def add(x, y, z):\n",
    "    return x + y + z\n",
    "\n",
    "values = [1, 2, 3]\n",
    "\n",
    "# Using * to unpack list into arguments\n",
    "result = add(*values)\n",
    "print(result)\n",
    "```\n",
    "\n",
    "**Output:**\n",
    "```\n",
    "6\n",
    "```\n",
    "\n",
    "---\n",
    "\n",
    "### **3. Variable-Length Arguments in Functions**\n",
    "The `*args` syntax allows a function to accept a variable number of positional arguments.\n",
    "\n",
    "#### Example:\n",
    "```python\n",
    "def sum_all(*args):\n",
    "    return sum(args)\n",
    "\n",
    "print(sum_all(1, 2, 3, 4, 5))\n",
    "```\n",
    "\n",
    "**Output:**\n",
    "```\n",
    "15\n",
    "```\n",
    "\n",
    "#### How It Works:\n",
    "- `*args` collects all the positional arguments into a tuple.\n",
    "- You can then iterate or perform operations on this tuple.\n",
    "\n",
    "---\n",
    "\n",
    "### **4. Merging or Flattening Iterables**\n",
    "The `*` operator can be used to combine or flatten iterables like lists.\n",
    "\n",
    "#### Example:\n",
    "```python\n",
    "list1 = [1, 2, 3]\n",
    "list2 = [4, 5, 6]\n",
    "\n",
    "# Merge two lists using *\n",
    "merged_list = [*list1, *list2]\n",
    "\n",
    "print(merged_list)\n",
    "```\n",
    "\n",
    "**Output:**\n",
    "```\n",
    "[1, 2, 3, 4, 5, 6]\n",
    "```\n",
    "\n",
    "---\n",
    "\n",
    "### **5. Ignoring Elements**\n",
    "When unpacking, you can use `*` to collect and ignore certain parts of the data.\n",
    "\n",
    "#### Example:\n",
    "```python\n",
    "numbers = [1, 2, 3, 4, 5]\n",
    "\n",
    "# Ignoring the rest of the elements\n",
    "a, b, *_ = numbers\n",
    "print(a, b)\n",
    "```\n",
    "\n",
    "**Output:**\n",
    "```\n",
    "1 2\n",
    "```\n",
    "\n",
    "---\n",
    "\n",
    "### **Key Points:**\n",
    "- `*` works with **iterables** (like lists, tuples, sets).\n",
    "- In unpacking, `*` collects remaining elements into a list.\n",
    "- In functions, `*args` collects a variable number of positional arguments.\n",
    "- It's especially useful for combining, splitting, or passing iterable data dynamically."
   ]
  },
  {
   "cell_type": "markdown",
   "id": "f63f92d8-fb19-4fa8-967c-cb86566f2331",
   "metadata": {},
   "source": [
    "### 50) Write a Python script to check if a given key already exists in a dictionary."
   ]
  },
  {
   "cell_type": "code",
   "execution_count": 99,
   "id": "60462908-d0d6-4a96-bd37-e7bbc19aaac6",
   "metadata": {},
   "outputs": [
    {
     "name": "stdout",
     "output_type": "stream",
     "text": [
      "Key 'b' exists in the dictionary with value 2.\n"
     ]
    }
   ],
   "source": [
    "my_dict = {'a': 1, 'b': 2, 'c': 3}\n",
    "\n",
    "key_to_check = 'b'\n",
    "\n",
    "if key_to_check in my_dict:\n",
    "    print(f\"Key '{key_to_check}' exists in the dictionary with value {my_dict[key_to_check]}.\")\n",
    "else:\n",
    "    print(f\"Key '{key_to_check}' does not exist in the dictionary.\")"
   ]
  },
  {
   "cell_type": "code",
   "execution_count": 100,
   "id": "f4fcd61a-29e6-4c9d-96a3-75f3cfaa4cc9",
   "metadata": {},
   "outputs": [
    {
     "name": "stdout",
     "output_type": "stream",
     "text": [
      "Key 'b' exists with value 2.\n"
     ]
    }
   ],
   "source": [
    "my_dict = {'a': 1, 'b': 2, 'c': 3}\n",
    "\n",
    "key_to_check = 'b'\n",
    "\n",
    "value = my_dict.get(key_to_check)\n",
    "\n",
    "if value is not None:\n",
    "    print(f\"Key '{key_to_check}' exists with value {value}.\")\n",
    "else:\n",
    "    print(f\"Key '{key_to_check}' does not exist.\")"
   ]
  },
  {
   "cell_type": "markdown",
   "id": "26099d98-9b9d-48d2-bacf-535a3490fed4",
   "metadata": {},
   "source": [
    "### 51) How Do You Traverse Through a Dictionary Object in Python?"
   ]
  },
  {
   "cell_type": "code",
   "execution_count": 101,
   "id": "f79da7b8-dbb2-43a7-8407-888c99ad5b04",
   "metadata": {},
   "outputs": [
    {
     "name": "stdout",
     "output_type": "stream",
     "text": [
      "Key: a\n",
      "Key: b\n",
      "Key: c\n"
     ]
    }
   ],
   "source": [
    "my_dict = {'a': 1, 'b': 2, 'c': 3}\n",
    "\n",
    "for key in my_dict:\n",
    "    print(f\"Key: {key}\")"
   ]
  },
  {
   "cell_type": "code",
   "execution_count": 102,
   "id": "28853805-a356-4e4b-8904-83497af33e27",
   "metadata": {},
   "outputs": [
    {
     "name": "stdout",
     "output_type": "stream",
     "text": [
      "Key: a\n",
      "Key: b\n",
      "Key: c\n"
     ]
    }
   ],
   "source": [
    "for key in my_dict.keys():\n",
    "    print(f\"Key: {key}\")\n"
   ]
  },
  {
   "cell_type": "code",
   "execution_count": 103,
   "id": "c5347144-e60f-43ff-9576-ebbad4e61099",
   "metadata": {},
   "outputs": [
    {
     "name": "stdout",
     "output_type": "stream",
     "text": [
      "Index: 0, Key: a, Value: 1\n",
      "Index: 1, Key: b, Value: 2\n",
      "Index: 2, Key: c, Value: 3\n"
     ]
    }
   ],
   "source": [
    "for index, key in enumerate(my_dict):\n",
    "    print(f\"Index: {index}, Key: {key}, Value: {my_dict[key]}\")\n"
   ]
  },
  {
   "cell_type": "code",
   "execution_count": 105,
   "id": "57aa1a5d-4e70-41e5-b66a-50277a429c2e",
   "metadata": {},
   "outputs": [
    {
     "name": "stdout",
     "output_type": "stream",
     "text": [
      "Key: a, Value: 1\n",
      "Key: b, Value: 2\n",
      "Key: c, Value: 3\n"
     ]
    }
   ],
   "source": [
    "for key, value in my_dict.items():\n",
    "    print(f\"Key: {key}, Value: {value}\")\n"
   ]
  },
  {
   "cell_type": "code",
   "execution_count": 104,
   "id": "438cd27d-30a1-44e6-9f9a-01bed1546e1d",
   "metadata": {},
   "outputs": [
    {
     "name": "stdout",
     "output_type": "stream",
     "text": [
      "Value: 1\n",
      "Value: 2\n",
      "Value: 3\n"
     ]
    }
   ],
   "source": [
    "for value in my_dict.values():\n",
    "    print(f\"Value: {value}\")\n"
   ]
  },
  {
   "cell_type": "markdown",
   "id": "1e26f3b0-b609-4174-bab0-296186e28e87",
   "metadata": {},
   "source": [
    "### 52) How Do You Check the Presence of a Key in A Dictionary?"
   ]
  },
  {
   "cell_type": "markdown",
   "id": "6b0fd1b2-2501-4749-8eec-9f063db3736d",
   "metadata": {},
   "source": [
    "To check the presence of a key in a dictionary in Python, you can use several methods. Here’s how:\n",
    "\n",
    "---\n",
    "\n",
    "### **1. Using the `in` Operator**\n",
    "The most Pythonic way to check if a key exists in a dictionary.\n",
    "\n",
    "#### Example:\n",
    "```python\n",
    "my_dict = {'a': 1, 'b': 2, 'c': 3}\n",
    "key_to_check = 'b'\n",
    "\n",
    "if key_to_check in my_dict:\n",
    "    print(f\"Key '{key_to_check}' is present in the dictionary.\")\n",
    "else:\n",
    "    print(f\"Key '{key_to_check}' is not present in the dictionary.\")\n",
    "```\n",
    "\n",
    "**Output**:\n",
    "```\n",
    "Key 'b' is present in the dictionary.\n",
    "```\n",
    "\n",
    "---\n",
    "\n",
    "### **2. Using the `get()` Method**\n",
    "The `get()` method returns the value of the specified key if it exists, or `None` if it doesn’t.\n",
    "\n",
    "#### Example:\n",
    "```python\n",
    "value = my_dict.get('b')\n",
    "\n",
    "if value is not None:\n",
    "    print(\"Key is present in the dictionary.\")\n",
    "else:\n",
    "    print(\"Key is not present in the dictionary.\")\n",
    "```\n",
    "\n",
    "**Output**:\n",
    "```\n",
    "Key is present in the dictionary.\n",
    "```\n",
    "\n",
    "---\n",
    "\n",
    "### **3. Using `keys()` Method**\n",
    "The `keys()` method returns a view object of all the keys in the dictionary, which you can use to check the presence of a key.\n",
    "\n",
    "#### Example:\n",
    "```python\n",
    "if 'b' in my_dict.keys():\n",
    "    print(\"Key exists.\")\n",
    "else:\n",
    "    print(\"Key does not exist.\")\n",
    "```\n",
    "\n",
    "**Output**:\n",
    "```\n",
    "Key exists.\n",
    "```\n",
    "\n",
    "---\n",
    "\n",
    "### **Comparison of Methods**:\n",
    "| **Method**            | **Description**                                                                 | **Best Use Case**                  |\n",
    "|------------------------|---------------------------------------------------------------------------------|-------------------------------------|\n",
    "| `in` operator          | Checks directly for the key in the dictionary.                                 | Most efficient and Pythonic.       |\n",
    "| `get()` method         | Checks for the key and optionally retrieves the value.                         | When you need the value or default. |\n",
    "| `keys()` method        | Explicitly checks the key among the dictionary's keys.                        | Useful for clarity in some cases.  |\n",
    "\n",
    "---\n",
    "\n",
    "### **Key Point**:\n",
    "The `in` operator is the preferred and most efficient method for checking key presence in Python."
   ]
  },
  {
   "cell_type": "markdown",
   "id": "6cccc17a-1a9b-4da2-9fd8-0c6881f37f4a",
   "metadata": {},
   "source": [
    "### 53) Write a Python script to print a dictionary where the keys are numbers between 1 and 15. "
   ]
  },
  {
   "cell_type": "code",
   "execution_count": 106,
   "id": "23d39b9f-6ba5-49eb-aaf7-486934189405",
   "metadata": {},
   "outputs": [
    {
     "name": "stdout",
     "output_type": "stream",
     "text": [
      "{1: 1, 2: 4, 3: 9, 4: 16, 5: 25, 6: 36, 7: 49, 8: 64, 9: 81, 10: 100, 11: 121, 12: 144, 13: 169, 14: 196, 15: 225}\n"
     ]
    }
   ],
   "source": [
    "my_dict = {i: i**2 for i in range(1, 16)}\n",
    "\n",
    "print(my_dict)"
   ]
  },
  {
   "cell_type": "markdown",
   "id": "2b662f85-3462-4597-bd7f-d9ac366b0c90",
   "metadata": {},
   "source": [
    "### 54) Write a Python program to check multiple keys exists in a dictionary "
   ]
  },
  {
   "cell_type": "code",
   "execution_count": 107,
   "id": "c953fcce-0404-4124-a751-db0578025c38",
   "metadata": {},
   "outputs": [
    {
     "name": "stdout",
     "output_type": "stream",
     "text": [
      "The following keys are missing: e\n"
     ]
    }
   ],
   "source": [
    "my_dict = {'a': 1, 'b': 2, 'c': 3, 'd': 4}\n",
    "\n",
    "keys_to_check = ['a', 'b', 'e']\n",
    "\n",
    "missing_keys = [key for key in keys_to_check if key not in my_dict]\n",
    "\n",
    "if not missing_keys:\n",
    "    print(\"All keys exist in the dictionary.\")\n",
    "else:\n",
    "    print(f\"The following keys are missing: {', '.join(missing_keys)}\")"
   ]
  },
  {
   "cell_type": "code",
   "execution_count": 109,
   "id": "d31a97c9-5e54-4a22-a82f-4c4e630619e8",
   "metadata": {},
   "outputs": [
    {
     "name": "stdout",
     "output_type": "stream",
     "text": [
      "Not all keys exist in the dictionary.\n"
     ]
    }
   ],
   "source": [
    "keys_to_check = ['a', 'b', 'e']\n",
    "\n",
    "if all(key in my_dict for key in keys_to_check):\n",
    "    print(\"All keys exist in the dictionary.\")\n",
    "else:\n",
    "    print(\"Not all keys exist in the dictionary.\")\n",
    "\n",
    "# This just checks if all keys are present, but doesn't tell you which ones are missing. \n",
    "# For that, you need the list approach."
   ]
  },
  {
   "cell_type": "markdown",
   "id": "667529a4-595c-49ca-bdd7-5ed9c49875a8",
   "metadata": {},
   "source": [
    "### 55) Write a Python script to merge two Python dictionaries"
   ]
  },
  {
   "cell_type": "code",
   "execution_count": 110,
   "id": "72237ffb-1f8c-4d2c-bf25-c2382228fba2",
   "metadata": {},
   "outputs": [
    {
     "name": "stdout",
     "output_type": "stream",
     "text": [
      "Merged Dictionary: {'a': 1, 'b': 2, 'c': 3, 'd': 4}\n"
     ]
    }
   ],
   "source": [
    "dict1 = {'a': 1, 'b': 2}\n",
    "dict2 = {'c': 3, 'd': 4}\n",
    "\n",
    "dict1.update(dict2)\n",
    "\n",
    "print(\"Merged Dictionary:\", dict1)"
   ]
  },
  {
   "cell_type": "code",
   "execution_count": 111,
   "id": "576eeba7-567e-4b6b-995e-1e36a0ad9546",
   "metadata": {},
   "outputs": [
    {
     "name": "stdout",
     "output_type": "stream",
     "text": [
      "Merged Dictionary: {'a': 1, 'b': 2, 'c': 3, 'd': 4}\n"
     ]
    }
   ],
   "source": [
    "dict1 = {'a': 1, 'b': 2}\n",
    "dict2 = {'c': 3, 'd': 4}\n",
    "\n",
    "# Merging dictionaries using the unpacking operator\n",
    "merged_dict = {**dict1, **dict2}\n",
    "\n",
    "print(\"Merged Dictionary:\", merged_dict)"
   ]
  },
  {
   "cell_type": "code",
   "execution_count": 112,
   "id": "24ab3ad0-1049-4d8d-b5c4-b790641f7cda",
   "metadata": {},
   "outputs": [
    {
     "name": "stdout",
     "output_type": "stream",
     "text": [
      "Merged Dictionary: {'a': 1, 'b': 2, 'c': 3, 'd': 4}\n"
     ]
    }
   ],
   "source": [
    "dict1 = {'a': 1, 'b': 2}\n",
    "dict2 = {'c': 3, 'd': 4}\n",
    "\n",
    "merged_dict = dict(**dict1, **dict2)\n",
    "\n",
    "print(\"Merged Dictionary:\", merged_dict)\n"
   ]
  },
  {
   "cell_type": "markdown",
   "id": "af143f57-de6c-435b-bfbf-ead9dac12dc8",
   "metadata": {},
   "source": [
    "### 56) Write a Python program to map two lists into a dictionary \n",
    "### Sample output: Counter ({'a': 400, 'b': 400,’d’: 400, 'c': 300})."
   ]
  },
  {
   "cell_type": "code",
   "execution_count": 113,
   "id": "91ab7adc-11b4-4065-bcc2-f3f6607c49dd",
   "metadata": {},
   "outputs": [
    {
     "name": "stdout",
     "output_type": "stream",
     "text": [
      "Counter({'a': 400, 'b': 400, 'd': 400, 'c': 300})\n"
     ]
    }
   ],
   "source": [
    "from collections import Counter\n",
    "\n",
    "keys = ['a', 'b', 'd', 'c']\n",
    "values = [400, 400, 400, 300]\n",
    "\n",
    "# Mapping two lists into a dictionary\n",
    "mapped_dict = dict(zip(keys, values))\n",
    "\n",
    "# Counting occurrences of each value\n",
    "counter = Counter(mapped_dict)\n",
    "\n",
    "print(counter)"
   ]
  },
  {
   "cell_type": "markdown",
   "id": "aabd9e3c-584d-472d-9867-e14cf7d5a655",
   "metadata": {},
   "source": [
    "**Explanation:**\n",
    "- `zip(keys, values)`: This function pairs up the elements from the two lists (keys and values) into tuples. It combines the first element of keys with the first element of values, the second element of keys with the second element of values, and so on.\n",
    "- `dict(zip(keys, values))`: Converts the paired tuples into a dictionary, where the first list becomes the keys and the second list becomes the values.\n",
    "- `Counter(mapped_dict)`: The Counter class from the collections module counts the occurrences of each value in the dictionary."
   ]
  },
  {
   "cell_type": "markdown",
   "id": "1ac01809-f253-4289-8d3d-1e5d3aa6c0d7",
   "metadata": {},
   "source": [
    "The `Counter` class is part of the `collections` module in Python and is a specialized dictionary used to count the occurrences of elements in an iterable, such as a list, tuple, or string. It makes it easy to tally the occurrences of items and can be used for various tasks like counting, finding the most common elements, and more.\n",
    "\n",
    "### **Key Features of `Counter`:**\n",
    "- It counts hashable objects and returns a dictionary-like object.\n",
    "- It handles missing values gracefully (it will return `0` for any missing element instead of raising a `KeyError`).\n",
    "- You can easily find the most common elements and perform mathematical operations like addition, subtraction, and intersection on `Counter` objects.\n",
    "\n",
    "### **Basic Usage of `Counter`:**\n",
    "\n",
    "#### 1. **Creating a Counter Object**\n",
    "You can create a `Counter` by passing an iterable (like a list or string) to it.\n",
    "\n",
    "```python\n",
    "from collections import Counter\n",
    "\n",
    "# Creating a Counter object from a list\n",
    "counter = Counter(['a', 'b', 'b', 'c', 'a', 'a'])\n",
    "\n",
    "print(counter)\n",
    "```\n",
    "\n",
    "**Output:**\n",
    "```\n",
    "Counter({'a': 3, 'b': 2, 'c': 1})\n",
    "```\n",
    "\n",
    "#### 2. **Accessing Counts**\n",
    "You can access the count of any item in the `Counter` object. If the item doesn't exist, it returns `0`.\n",
    "\n",
    "```python\n",
    "print(counter['a'])  # Output: 3\n",
    "print(counter['b'])  # Output: 2\n",
    "print(counter['d'])  # Output: 0 (since 'd' isn't in the Counter)\n",
    "```\n",
    "\n",
    "#### 3. **Using `most_common()` Method**\n",
    "The `most_common(n)` method returns the `n` most common elements along with their counts.\n",
    "\n",
    "```python\n",
    "# Get the 2 most common elements\n",
    "print(counter.most_common(2))\n",
    "```\n",
    "\n",
    "**Output:**\n",
    "```\n",
    "[('a', 3), ('b', 2)]\n",
    "```\n",
    "\n",
    "#### 4. **Mathematical Operations with Counter**\n",
    "`Counter` objects support basic arithmetic operations (addition, subtraction, etc.).\n",
    "\n",
    "##### Example: **Addition of Counters**\n",
    "```python\n",
    "counter1 = Counter({'a': 3, 'b': 2})\n",
    "counter2 = Counter({'a': 1, 'c': 4})\n",
    "\n",
    "# Adding two Counters\n",
    "result = counter1 + counter2\n",
    "print(result)\n",
    "```\n",
    "\n",
    "**Output:**\n",
    "```\n",
    "Counter({'a': 4, 'c': 4, 'b': 2})\n",
    "```\n",
    "\n",
    "##### Example: **Subtraction of Counters**\n",
    "```python\n",
    "# Subtracting two Counters\n",
    "result = counter1 - counter2\n",
    "print(result)\n",
    "```\n",
    "\n",
    "**Output:**\n",
    "```\n",
    "Counter({'a': 2, 'b': 2})\n",
    "```\n",
    "\n",
    "#### 5. **Updating a Counter**\n",
    "You can update an existing `Counter` with elements from another iterable or `Counter`.\n",
    "\n",
    "```python\n",
    "counter.update(['a', 'd', 'd'])\n",
    "print(counter)\n",
    "```\n",
    "\n",
    "**Output:**\n",
    "```\n",
    "Counter({'a': 4, 'b': 2, 'c': 1, 'd': 2})\n",
    "```\n",
    "\n",
    "#### 6. **Elements Method**\n",
    "The `elements()` method returns an iterator that produces each element in the `Counter` object based on its count.\n",
    "\n",
    "```python\n",
    "# Get all elements\n",
    "print(list(counter.elements()))\n",
    "```\n",
    "\n",
    "**Output:**\n",
    "```\n",
    "['a', 'a', 'a', 'a', 'b', 'b', 'c', 'd', 'd']\n",
    "```\n",
    "\n",
    "#### 7. **Working with Default Values**\n",
    "The `Counter` class automatically sets the default count of any missing key to 0, making it useful for certain operations.\n",
    "\n",
    "```python\n",
    "counter = Counter()\n",
    "counter['a'] += 1\n",
    "counter['b'] += 2\n",
    "print(counter)\n",
    "```\n",
    "\n",
    "**Output:**\n",
    "```\n",
    "Counter({'b': 2, 'a': 1})\n",
    "```\n",
    "\n",
    "#### 8. **Comparing Counters**\n",
    "You can compare `Counter` objects for equality, but also check for the \"difference\" between counters (i.e., which elements are more or less frequent).\n",
    "\n",
    "```python\n",
    "counter1 = Counter({'a': 3, 'b': 2})\n",
    "counter2 = Counter({'a': 1, 'b': 2})\n",
    "\n",
    "# Check if two counters are equal\n",
    "print(counter1 == counter2)  # Output: False\n",
    "\n",
    "# Difference between two counters\n",
    "print(counter1 - counter2)  # Output: Counter({'a': 2})\n",
    "```\n",
    "\n",
    "### **Common Use Cases for `Counter`:**\n",
    "\n",
    "1. **Counting Occurrences in a List**\n",
    "   - Easily count the frequency of each item in a list, such as counting words in a sentence.\n",
    "   \n",
    "2. **Finding the Most Common Elements**\n",
    "   - Retrieve the most frequent elements in a list, useful in many applications like text analysis.\n",
    "\n",
    "3. **Histogram Creation**\n",
    "   - `Counter` is often used for building histograms where you want to count how many times each element appears.\n",
    "\n",
    "4. **Mathematical Set Operations**\n",
    "   - You can perform set-like operations such as union, intersection, and subtraction between two `Counter` objects.\n",
    "\n",
    "### **Limitations of `Counter`**:\n",
    "- `Counter` is not designed for general-purpose dictionaries and should primarily be used for counting occurrences.\n",
    "- It only works with hashable elements (i.e., types that can be used as keys in a dictionary).\n",
    "\n",
    "### **Conclusion**:\n",
    "`Counter` is a very useful tool when you need to count the frequency of elements in an iterable. It provides a lot of functionality beyond just simple counting, including support for mathematical operations and efficient methods for querying and updating counts."
   ]
  },
  {
   "cell_type": "markdown",
   "id": "a6b7496d-80ee-4454-b355-5b9e2898bdb7",
   "metadata": {},
   "source": [
    "### 57) Write a Python program to find the highest 3 values in a dictionary"
   ]
  },
  {
   "cell_type": "code",
   "execution_count": 114,
   "id": "b42aae9c-f5bd-4d05-80dd-2a4e3f7411c4",
   "metadata": {},
   "outputs": [
    {
     "name": "stdout",
     "output_type": "stream",
     "text": [
      "Top 3 highest values: [('d', 400), ('e', 300), ('b', 200)]\n"
     ]
    }
   ],
   "source": [
    "my_dict = {'a': 100, 'b': 200, 'c': 50, 'd': 400, 'e': 300}\n",
    "\n",
    "top_3 = sorted(my_dict.items(), key=lambda x: x[1], reverse=True)[:3]\n",
    "\n",
    "print(\"Top 3 highest values:\", top_3)"
   ]
  },
  {
   "cell_type": "markdown",
   "id": "99113d0e-45f6-4b81-b2f7-eaa39f6ef340",
   "metadata": {},
   "source": [
    "### 58)  Write a Python program to combine values in python list of dictionaries. \n",
    "### Sample data: [{'item': 'item1', 'amount': 400}, {'item': 'item2', 'amount': 300}, o {'item': 'item1', 'amount': 750}] \n",
    "### Expected Output: \n",
    "### • Counter ({'item1': 1150, 'item2': 300}) "
   ]
  },
  {
   "cell_type": "code",
   "execution_count": 115,
   "id": "dbdc9afc-5219-467a-a1fa-31dbb6f58e8f",
   "metadata": {},
   "outputs": [
    {
     "name": "stdout",
     "output_type": "stream",
     "text": [
      "Combined result: Counter({'item1': 1150, 'item2': 300})\n"
     ]
    }
   ],
   "source": [
    "from collections import Counter\n",
    "\n",
    "data = [{'item': 'item1', 'amount': 400}, {'item': 'item2', 'amount': 300}, {'item': 'item1', 'amount': 750}]\n",
    "\n",
    "counter = Counter()\n",
    "\n",
    "for entry in data:\n",
    "    counter[entry['item']] += entry['amount']\n",
    "\n",
    "print(\"Combined result:\", counter)"
   ]
  },
  {
   "cell_type": "markdown",
   "id": "8594aa12-96e7-45d4-bd59-ab29e60095a9",
   "metadata": {},
   "source": [
    "### 59) Write a Python program to create a dictionary from a string. \n",
    "### Note: Track the count of the letters from the string. "
   ]
  },
  {
   "cell_type": "code",
   "execution_count": 116,
   "id": "f5b7f25c-7c35-43b1-8464-67c75a686772",
   "metadata": {},
   "outputs": [
    {
     "name": "stdout",
     "output_type": "stream",
     "text": [
      "Letter count: {'e': 2, 'x': 1, 'a': 1, 'm': 1, 'p': 1, 'l': 1}\n"
     ]
    }
   ],
   "source": [
    "input_string = \"example\"\n",
    "letter_count = {}\n",
    "\n",
    "for char in input_string:\n",
    "    if char in letter_count:\n",
    "        letter_count[char] += 1\n",
    "    else:\n",
    "        letter_count[char] = 1\n",
    "\n",
    "print(\"Letter count:\", letter_count)\n"
   ]
  },
  {
   "cell_type": "code",
   "execution_count": 117,
   "id": "32a236d9-68a4-49d2-bf49-560752364558",
   "metadata": {},
   "outputs": [
    {
     "name": "stdout",
     "output_type": "stream",
     "text": [
      "Letter count: Counter({'e': 2, 'x': 1, 'a': 1, 'm': 1, 'p': 1, 'l': 1})\n"
     ]
    }
   ],
   "source": [
    "from collections import Counter\n",
    "\n",
    "input_string = \"example\"\n",
    "letter_count = Counter(input_string)\n",
    "\n",
    "print(\"Letter count:\", letter_count)"
   ]
  },
  {
   "cell_type": "markdown",
   "id": "2bd3e060-59db-4110-9eb1-4a652541cbfc",
   "metadata": {},
   "source": [
    "### 61) Write a Python function to calculate the factorial of a number (a nonnegative integer) "
   ]
  },
  {
   "cell_type": "code",
   "execution_count": 119,
   "id": "e239fe06-8a97-4061-b7ee-9342d2b1f6f0",
   "metadata": {},
   "outputs": [
    {
     "name": "stdin",
     "output_type": "stream",
     "text": [
      "Enter a number:  4\n"
     ]
    },
    {
     "name": "stdout",
     "output_type": "stream",
     "text": [
      "The factorial of 4 is 24\n"
     ]
    }
   ],
   "source": [
    "def factorial(n):\n",
    "    if n == 0 or n == 1:\n",
    "        return 1\n",
    "    else:\n",
    "        return n * factorial(n - 1)\n",
    "\n",
    "number = int(input(\"Enter a number: \"))\n",
    "result = factorial(number)\n",
    "print(f\"The factorial of {number} is {result}\")"
   ]
  },
  {
   "cell_type": "markdown",
   "id": "717d368d-4670-49d6-975e-45ac6e5edae6",
   "metadata": {},
   "source": [
    "### 62) Write a Python function to check whether a number is in a given range"
   ]
  },
  {
   "cell_type": "code",
   "execution_count": 121,
   "id": "76a5a401-852c-4b2b-926e-3dfde95b96c2",
   "metadata": {},
   "outputs": [
    {
     "name": "stdin",
     "output_type": "stream",
     "text": [
      "Enter the number:  5\n",
      "Enter the start of the range:  1\n",
      "Enter the end of the range:  10\n"
     ]
    },
    {
     "name": "stdout",
     "output_type": "stream",
     "text": [
      "Is 5 in the range 1 to 10? True\n"
     ]
    }
   ],
   "source": [
    "def is_in_range(number, start, end):\n",
    "    if start <= number <= end:\n",
    "        return True\n",
    "    else:\n",
    "        return False\n",
    "\n",
    "number = int(input(\"Enter the number: \"))\n",
    "start = int(input(\"Enter the start of the range: \"))\n",
    "end = int(input(\"Enter the end of the range: \"))\n",
    "\n",
    "result = is_in_range(number, start, end)\n",
    "print(f\"Is {number} in the range {start} to {end}? {result}\")"
   ]
  },
  {
   "cell_type": "markdown",
   "id": "850d07a8-a35c-4b73-8213-7187bcd8f97f",
   "metadata": {},
   "source": [
    "### 63) Write a Python function to check whether a number is perfect or not. "
   ]
  },
  {
   "cell_type": "code",
   "execution_count": 122,
   "id": "dd85b620-cb6e-4843-baaa-ef7cdb5abb66",
   "metadata": {},
   "outputs": [
    {
     "name": "stdout",
     "output_type": "stream",
     "text": [
      "Is 6 a perfect number? True\n"
     ]
    }
   ],
   "source": [
    "def is_perfect(number):\n",
    "    if number <= 0:\n",
    "        return False\n",
    "    \n",
    "    divisors_sum = 0\n",
    "    for i in range(1, number):\n",
    "        if number % i == 0:\n",
    "            divisors_sum += i\n",
    "    \n",
    "    return divisors_sum == number\n",
    "\n",
    "number = int(input(\"Enter a number : \"))\n",
    "result = is_perfect(number)\n",
    "print(f\"Is {number} a perfect number? {result}\")\n",
    "\n",
    "# A perfect number is a positive integer that is equal to the sum of its proper divisors \n",
    "# (excluding the number itself). For example, the number 6 is perfect because its \n",
    "# divisors are 1, 2, and 3, and 1 + 2 + 3 = 6."
   ]
  },
  {
   "cell_type": "markdown",
   "id": "1191b3e3-282b-4685-b37c-72b72364ee66",
   "metadata": {},
   "source": [
    "### 64) Write a Python function that checks whether a passed string is palindrome or not "
   ]
  },
  {
   "cell_type": "code",
   "execution_count": 123,
   "id": "03573ce9-6215-4218-ae6f-c6e1cea54e28",
   "metadata": {},
   "outputs": [
    {
     "name": "stdin",
     "output_type": "stream",
     "text": [
      "Enter a string to check if it's a palindrome:  madam\n"
     ]
    },
    {
     "name": "stdout",
     "output_type": "stream",
     "text": [
      "Is 'madam' a palindrome? True\n"
     ]
    }
   ],
   "source": [
    "def is_palindrome(s):\n",
    "    cleaned_str = ''.join(s.split()).lower()\n",
    "    return cleaned_str == cleaned_str[::-1]\n",
    "\n",
    "input_string = input(\"Enter a string to check if it's a palindrome: \")\n",
    "\n",
    "result = is_palindrome(input_string)\n",
    "print(f\"Is '{input_string}' a palindrome? {result}\")"
   ]
  },
  {
   "cell_type": "markdown",
   "id": "535b33c3-af88-4ee7-aed1-fa272b57673d",
   "metadata": {},
   "source": [
    "### 65) **How Many Basic Types of Functions Are Available in Python?**\n",
    "\n",
    "Python supports the following basic types of functions:\n",
    "\n",
    "1. **Built-in Functions**: Functions that are built into Python and are available for use without importing any modules. Examples include `print()`, `len()`, `sum()`, `max()`, `min()`, etc.\n",
    "   \n",
    "2. **User-defined Functions**: Functions that are defined by the user using the `def` keyword. These functions can take parameters and return values.\n",
    "\n",
    "3. **Lambda Functions**: Also known as anonymous functions, these are functions defined using the `lambda` keyword. They are typically used for short, throwaway functions. Example: `lambda x: x + 2`.\n",
    "\n",
    "4. **Recursive Functions**: Functions that call themselves in order to solve a problem by breaking it down into smaller sub-problems. Example: a function to calculate factorial using recursion.\n",
    "\n",
    "### 66) **How Can You Pick a Random Item from a List or Tuple?**\n",
    "\n",
    "\n",
    "\n",
    "#### Example:\n",
    "```python\n",
    "import random\n",
    "\n",
    "my_list = [1, 2, 3, 4, 5]\n",
    "random_item = random.choice(my_list)\n",
    "print(random_item)\n",
    "```\n",
    "\n",
    "### 67) **How Can You Pick a Random Item from a Range?**\n",
    "\n",
    "\n",
    "#### Example:\n",
    "```python\n",
    "import random\n",
    "\n",
    "random_item = random.choice(range(1, 11))  # Picks a random number from 1 to 10\n",
    "print(random_item)\n",
    "```\n",
    "\n",
    "### 68) **How Can You Get a Random Number in Python?**\n",
    "\n",
    "You can use the `random` module to generate random numbers.\n",
    "\n",
    "- **To generate a random integer** within a specified range: `random.randint(start, end)`\n",
    "  \n",
    "- **To generate a random float** between 0 and 1: `random.random()`\n",
    "\n",
    "#### Example for Random Integer:\n",
    "```python\n",
    "import random\n",
    "\n",
    "random_int = random.randint(1, 100)  # Generates a random integer between 1 and 100\n",
    "print(random_int)\n",
    "```\n",
    "\n",
    "#### Example for Random Float:\n",
    "```python\n",
    "import random\n",
    "\n",
    "random_float = random.random()  # Generates a random float between 0 and 1\n",
    "print(random_float)\n",
    "```\n",
    "\n",
    "### 69) **How Will You Set the Starting Value in Generating Random Numbers?**\n",
    "\n",
    "\n",
    "#### Example:\n",
    "```python\n",
    "import random\n",
    "\n",
    "random.seed(42)  # Set the seed for reproducibility\n",
    "\n",
    "random_number = random.randint(1, 10)\n",
    "print(random_number)\n",
    "```\n",
    "\n",
    "By setting a seed, you make sure that the sequence of random numbers generated is the same each time you run the program with that seed. Without setting a seed, Python will use the current system time to generate a random seed, leading to different results each time."
   ]
  },
  {
   "cell_type": "markdown",
   "id": "addd4379-bb4e-443b-abd6-1d69462305b9",
   "metadata": {},
   "source": [
    "### **What is `random.seed()` in Python?**\n",
    "\n",
    "`random.seed()` is a function in the `random` module that initializes the random number generator with a specific seed value. This seed value is a starting point for generating random numbers, and using the same seed value will ensure that the sequence of random numbers generated is **reproducible** across different runs of the program.\n",
    "\n",
    "### **Why is it Used?**\n",
    "- **Reproducibility**: When you use the same seed value, the random numbers generated will always be the same. This is useful for debugging, testing, or ensuring consistency in results.\n",
    "- **Randomness**: Without setting a seed, Python will automatically use a system-generated value (usually the current time) to seed the random number generator. This results in different sequences of random numbers each time the program is run.\n",
    "\n",
    "### **Syntax:**\n",
    "\n",
    "```python\n",
    "import random\n",
    "\n",
    "random.seed(a=None, version=2)\n",
    "```\n",
    "\n",
    "- `a`: This is the seed value. It can be any hashable object (integer, string, etc.). If not provided (i.e., `a=None`), Python will use the current time or system state to generate a random seed.\n",
    "- `version`: This is the version of the random number generator algorithm used. The default is 2.\n",
    "\n",
    "### **Example 1: Basic Use of `random.seed()`**\n",
    "\n",
    "```python\n",
    "import random\n",
    "\n",
    "# Set the seed to 10\n",
    "random.seed(10)\n",
    "print(random.randint(1, 100))  # Always prints the same number when the seed is set to 10\n",
    "```\n",
    "\n",
    "### **Example 2: Demonstrating Reproducibility**\n",
    "\n",
    "```python\n",
    "import random\n",
    "\n",
    "# Setting the seed to 42\n",
    "random.seed(42)\n",
    "print(random.randint(1, 100))  # Output: 81\n",
    "\n",
    "# Running the same code again with the same seed will generate the same number\n",
    "random.seed(42)\n",
    "print(random.randint(1, 100))  # Output: 81\n",
    "```\n",
    "\n",
    "### **Example 3: Without Setting the Seed**\n",
    "\n",
    "```python\n",
    "import random\n",
    "\n",
    "# No seed set, so random numbers will vary each time the program is run\n",
    "print(random.randint(1, 100))\n",
    "print(random.randint(1, 100))\n",
    "```\n",
    "\n",
    "### **When to Use `random.seed()`?**\n",
    "- **Testing and Debugging**: If you need a consistent set of \"random\" numbers for tests, setting a fixed seed ensures that the results are predictable.\n",
    "- **Simulations**: When running simulations (like Monte Carlo methods), you may want to reproduce the same series of random values.\n",
    "  \n",
    "Without using `random.seed()`, the random numbers will differ on each execution of the program, making it difficult to reproduce results exactly.\n",
    "\n"
   ]
  },
  {
   "cell_type": "markdown",
   "id": "9fe53fa9-b39b-4a95-a4b6-39b8bbd1ebc7",
   "metadata": {},
   "source": [
    "### **70) How Will You Randomize the Items of a List in Place?**\n",
    "\n",
    "To randomize (shuffle) the items of a list in place in Python, you can use the `random.shuffle()` function from the `random` module. This function shuffles the elements of the list in place, meaning it modifies the original list.\n",
    "\n",
    "#### Example:\n",
    "```python\n",
    "import random\n",
    "\n",
    "my_list = [1, 2, 3, 4, 5]\n",
    "random.shuffle(my_list)\n",
    "\n",
    "print(my_list)\n",
    "```\n",
    "\n",
    "### **Explanation:**\n",
    "- `random.shuffle(my_list)` shuffles the elements of `my_list` in place. It does not return a new list; instead, it modifies the list directly.\n",
    "- After calling `random.shuffle()`, the order of the items in the list will be randomized.\n",
    "\n",
    "### **Output Example:**\n",
    "```\n",
    "[3, 5, 1, 4, 2]\n",
    "```\n",
    "Note that the output will be different every time you run the program, since the shuffle is random.\n",
    "\n",
    "---\n",
    "\n",
    "### **71) What is the File Function in Python? What Are Keywords to Create and Write a File?**\n",
    "\n",
    "In Python, **file handling** allows you to work with files (e.g., text files, binary files) by opening them, reading from them, writing to them, and closing them. Python provides built-in functions and keywords for working with files.\n",
    "\n",
    "#### **Key Functions for File Handling:**\n",
    "\n",
    "1. **`open()`**: The `open()` function is used to open a file. It takes the file name and the mode (e.g., reading, writing, appending) as arguments.\n",
    "\n",
    "   **Syntax:**\n",
    "   ```python\n",
    "   file_object = open('filename', 'mode')\n",
    "   ```\n",
    "\n",
    "   - `'filename'`: The name of the file you want to open.\n",
    "   - `'mode'`: The mode in which you want to open the file (e.g., `'r'`, `'w'`, `'a'`).\n",
    "\n",
    "   **Modes:**\n",
    "   - `'r'`: Read (default mode). Opens the file for reading only.\n",
    "   - `'w'`: Write. Opens the file for writing. If the file doesn't exist, it creates a new file. If the file already exists, it truncates it (i.e., clears its content).\n",
    "   - `'a'`: Append. Opens the file for appending at the end. If the file doesn't exist, it creates a new one.\n",
    "   - `'rb'`, `'wb'`, `'ab'`: Binary modes for reading, writing, or appending binary data.\n",
    "\n",
    "2. **`write()`**: The `write()` method is used to write data to a file.\n",
    "\n",
    "   **Syntax:**\n",
    "   ```python\n",
    "   file_object.write(data)\n",
    "   ```\n",
    "\n",
    "   **Example:**\n",
    "   ```python\n",
    "   file = open('example.txt', 'w')\n",
    "   file.write(\"Hello, World!\")\n",
    "   file.close()\n",
    "   ```\n",
    "\n",
    "3. **`read()`**: The `read()` method reads the content of the file.\n",
    "\n",
    "   **Syntax:**\n",
    "   ```python\n",
    "   file_content = file_object.read()\n",
    "   ```\n",
    "\n",
    "   **Example:**\n",
    "   ```python\n",
    "   file = open('example.txt', 'r')\n",
    "   content = file.read()\n",
    "   print(content)\n",
    "   file.close()\n",
    "   ```\n",
    "\n",
    "4. **`close()`**: The `close()` method is used to close the file after operations.\n",
    "\n",
    "   **Syntax:**\n",
    "   ```python\n",
    "   file_object.close()\n",
    "   ```\n",
    "\n",
    "   It is important to close the file after operations to free up system resources.\n",
    "\n",
    "#### **Example: Writing to a File**\n",
    "```python\n",
    "# Open the file in write mode\n",
    "file = open('my_file.txt', 'w')\n",
    "\n",
    "# Write some text to the file\n",
    "file.write(\"This is an example of file handling in Python.\")\n",
    "\n",
    "# Close the file after writing\n",
    "file.close()\n",
    "```\n",
    "\n",
    "#### **Example: Reading from a File**\n",
    "```python\n",
    "# Open the file in read mode\n",
    "file = open('my_file.txt', 'r')\n",
    "\n",
    "# Read the content of the file\n",
    "content = file.read()\n",
    "print(content)\n",
    "\n",
    "# Close the file after reading\n",
    "file.close()\n",
    "```\n",
    "\n",
    "### **Keywords:**\n",
    "- `open()`: Opens the file.\n",
    "- `write()`: Writes to the file.\n",
    "- `read()`: Reads from the file.\n",
    "- `close()`: Closes the file.\n",
    "\n",
    "### **With `with` statement (Recommended Approach):**\n",
    "\n",
    "The `with` statement is commonly used to handle files because it ensures that the file is automatically closed after the block is executed, even if there is an error. This is the recommended approach for file handling.\n",
    "\n",
    "#### Example with `with` statement:\n",
    "```python\n",
    "with open('my_file.txt', 'w') as file:\n",
    "    file.write(\"Hello, World!\")\n",
    "```\n",
    "\n",
    "With the `with` statement, you don’t need to explicitly call `file.close()`. It automatically handles it for you when the block of code is finished executing."
   ]
  },
  {
   "cell_type": "markdown",
   "id": "f79f1597-7fed-4a73-bd39-3518eb11acf3",
   "metadata": {},
   "source": [
    "### **File Methods: `write()`, `writelines()`, `read()`, `readline()`, and `readlines()`**\n",
    "\n",
    "Here is a detailed table that covers the usage, behavior, limitations, and how the file cursor or pointer behaves for each method.\n",
    "\n",
    "| Method         | Usage                                           | Behavior                                                                 | Limitations                                        | File Pointer Behavior                        |\n",
    "|----------------|-------------------------------------------------|--------------------------------------------------------------------------|----------------------------------------------------|----------------------------------------------|\n",
    "| `write()`      | Writes a single string to the file.             | Writes the string directly to the file. Does not add a newline unless explicitly specified. | - Does not add a newline unless `\\n` is included. <br> - Can overwrite existing content if in write mode. | Moves the pointer to the end of the file after writing. |\n",
    "| `writelines()` | Writes a list of strings to the file.           | Writes each string in the list to the file, without adding a newline unless specified in the list. | - No newline is added by default. <br> - If a list element lacks `\\n`, lines will not break. | Moves the pointer to the end of the file after writing. |\n",
    "| `read()`       | Reads the entire file content.                  | Returns all the content as a single string. Can take a `size` parameter to read a specific number of bytes. | - Can be memory inefficient for large files. <br> - Reads the entire file at once, which may be problematic for large files. | Moves the pointer from the beginning to the end of the file after reading. |\n",
    "| `readline()`   | Reads a single line from the file.              | Returns one line at a time, including the newline character (`\\n`).  | - Reads one line at a time, which could be slow for large files. | Moves the pointer forward by the length of the line. |\n",
    "| `readlines()`  | Reads the entire file into a list of lines.     | Returns a list of lines from the file, each line as an element in the list. | - Returns the entire content in memory, which may be inefficient for large files. | Moves the pointer from the beginning to the end of the file after reading all lines. |\n",
    "\n",
    "---\n",
    "\n",
    "### **Detailed Explanations:**\n",
    "\n",
    "1. **`write()`**:\n",
    "   - **Usage**: Writes a string to the file.\n",
    "   - **Limitations**: Does not add a newline character unless explicitly included.\n",
    "   - **Pointer Behavior**: After writing, the pointer moves to the end of the file, so subsequent writes will occur after the current content (unless in overwrite mode).\n",
    "\n",
    "2. **`writelines()`**:\n",
    "   - **Usage**: Writes a list of strings to the file.\n",
    "   - **Limitations**: If the strings in the list do not contain a newline (`\\n`), no line breaks will occur.\n",
    "   - **Pointer Behavior**: The pointer moves to the end of the file after writing all lines in the list.\n",
    "\n",
    "3. **`read()`**:\n",
    "   - **Usage**: Reads the entire file as a single string. Optionally, you can specify the number of bytes to read.\n",
    "   - **Limitations**: Memory-intensive for large files, as it reads the whole content at once.\n",
    "   - **Pointer Behavior**: The pointer moves to the end of the file once all content is read, so you cannot re-read it unless the pointer is reset (by reopening the file or using `seek()`).\n",
    "\n",
    "4. **`readline()`**:\n",
    "   - **Usage**: Reads a single line from the file.\n",
    "   - **Limitations**: Useful for smaller chunks, but can be slow if reading many lines one by one in large files.\n",
    "   - **Pointer Behavior**: The pointer moves forward by the length of the line, including the newline character. Each subsequent call to `readline()` reads the next line.\n",
    "\n",
    "5. **`readlines()`**:\n",
    "   - **Usage**: Reads all lines of the file into a list, each line as a separate string.\n",
    "   - **Limitations**: Like `read()`, it can be memory inefficient for large files.\n",
    "   - **Pointer Behavior**: The pointer moves to the end of the file after all lines are read, making it impossible to read from the file again without reopening or resetting the pointer.\n",
    "\n",
    "---\n",
    "\n"
   ]
  },
  {
   "cell_type": "markdown",
   "id": "074c54c2-d8d5-44f1-8f3f-0abe5f1030c0",
   "metadata": {},
   "source": [
    "\n",
    "| Mode   | Description                                      | File Pointer Behavior                                | Additional Notes |\n",
    "|--------|--------------------------------------------------|------------------------------------------------------|------------------|\n",
    "| `r`    | Read-only mode. Opens the file for reading only.  | Pointer starts at the beginning. Any read operation moves the pointer forward. | File must exist, raises `FileNotFoundError` if not. |\n",
    "| `w`    | Write-only mode. Opens the file for writing.     | Pointer starts at the beginning. If the file exists, it is overwritten. | Creates a new file if it doesn't exist. |\n",
    "| `a`    | Append mode. Opens the file for writing.         | Pointer starts at the end of the file. New content is added after existing data. | Creates a new file if it doesn't exist. |\n",
    "| `w+`   | Read and write mode. Opens the file for both reading and writing. | Pointer starts at the beginning. If the file exists, it is overwritten. | Creates a new file if it doesn't exist. |\n",
    "| `r+`   | Read and write mode. Opens the file for both reading and writing. | Pointer starts at the beginning. Allows both reading and writing. | File must exist, raises `FileNotFoundError` if not. |\n",
    "| `a+`   | Append and read mode. Opens the file for reading and appending. | Pointer starts at the end of the file. Allows reading from anywhere, but writing is always at the end. | Creates a new file if it doesn't exist. |\n",
    "\n"
   ]
  },
  {
   "cell_type": "markdown",
   "id": "919b5592-7b58-4ae0-983f-609e0c577f23",
   "metadata": {},
   "source": [
    "### 72) Write a Python program to read an entire text file. "
   ]
  },
  {
   "cell_type": "code",
   "execution_count": 3,
   "id": "e4bf7ce7-bf58-44c5-bc0b-8147e9525831",
   "metadata": {},
   "outputs": [
    {
     "name": "stdin",
     "output_type": "stream",
     "text": [
      "Enter the path of the text file:  aa11\n"
     ]
    },
    {
     "name": "stdout",
     "output_type": "stream",
     "text": [
      "File Content:\n",
      "\n",
      "a11\n",
      "\n"
     ]
    }
   ],
   "source": [
    "def read_file(file_path):\n",
    "    try:\n",
    "        with open(file_path, 'r') as file:\n",
    "            content = file.read()\n",
    "            print(\"File Content:\\n\")\n",
    "            print(content)\n",
    "    except FileNotFoundError:\n",
    "        print(\"Error: File not found. Please provide a valid file path.\")\n",
    "    except Exception as e:\n",
    "        print(f\"An error occurred: {e}\")\n",
    "\n",
    "file_path = input(\"Enter the path of the text file: \")\n",
    "\n",
    "read_file(file_path)"
   ]
  },
  {
   "cell_type": "markdown",
   "id": "3690a02b-fae6-495b-85f1-1615e532c29e",
   "metadata": {},
   "source": [
    "### 73) Write a Python program to append text to a file and display the text. \n"
   ]
  },
  {
   "cell_type": "code",
   "execution_count": 10,
   "id": "4931848d-b706-4f76-9bc6-bd6eefae1673",
   "metadata": {},
   "outputs": [
    {
     "name": "stdin",
     "output_type": "stream",
     "text": [
      "Enter the path of the text file:  aa11\n",
      "Enter the text you want to append:  rr\n"
     ]
    },
    {
     "name": "stdout",
     "output_type": "stream",
     "text": [
      "Text has been appended successfully.\n",
      "\n",
      "Updated File Content:\n",
      "\n",
      "a11\n",
      "re\n",
      "mws\n",
      "we\n",
      "\n",
      "rr\n",
      "\n"
     ]
    }
   ],
   "source": [
    "def append_and_display(file_path, text_to_append):\n",
    "    try:\n",
    "        with open(file_path, 'a') as file:\n",
    "            file.write(text_to_append + '\\n') \n",
    "            print(\"Text has been appended successfully.\\n\")\n",
    "        \n",
    "        with open(file_path, 'r') as file:\n",
    "            content = file.read()\n",
    "            print(\"Updated File Content:\\n\")\n",
    "            print(content)\n",
    "            \n",
    "    except FileNotFoundError:\n",
    "        print(\"Error: File not found. Please provide a valid file path.\")\n",
    "    except Exception as e:\n",
    "        print(f\"An error occurred: {e}\")\n",
    "\n",
    "file_path = input(\"Enter the path of the text file: \")\n",
    "\n",
    "text_to_append = input(\"Enter the text you want to append: \")\n",
    "\n",
    "append_and_display(file_path, text_to_append)"
   ]
  },
  {
   "cell_type": "markdown",
   "id": "78a1d356-6835-46b1-b1de-f6a2a0ac1db0",
   "metadata": {},
   "source": [
    "### 74) Write a Python program to read first n lines of a file. \n"
   ]
  },
  {
   "cell_type": "code",
   "execution_count": 6,
   "id": "e45b26aa-af15-4dc5-b186-f87545c3fc94",
   "metadata": {},
   "outputs": [
    {
     "name": "stdin",
     "output_type": "stream",
     "text": [
      "Enter the file path:  aa11\n",
      "Enter the number of lines to read:  2\n"
     ]
    },
    {
     "name": "stdout",
     "output_type": "stream",
     "text": [
      "a11\n",
      "re\n"
     ]
    }
   ],
   "source": [
    "def read_first_n_lines(file_path, n):\n",
    "    try:\n",
    "        with open(file_path, 'r') as file:\n",
    "            for i, line in enumerate(file):\n",
    "                if i < n:\n",
    "                    print(line, end='')  \n",
    "                else:\n",
    "                    break\n",
    "    except FileNotFoundError:\n",
    "        print(\"Error: File not found. Please provide a valid file path.\")\n",
    "    except Exception as e:\n",
    "        print(f\"An error occurred: {e}\")\n",
    "\n",
    "file_path = input(\"Enter the file path: \")\n",
    "n = int(input(\"Enter the number of lines to read: \"))\n",
    "read_first_n_lines(file_path, n)"
   ]
  },
  {
   "cell_type": "markdown",
   "id": "db40bce3-4356-4ef7-8da6-ddb1110ae2a0",
   "metadata": {},
   "source": [
    "### 75) Write a Python program to read last n lines of a file. \n"
   ]
  },
  {
   "cell_type": "code",
   "execution_count": 13,
   "id": "3b435b92-0857-4011-ad38-86822c9e7d2c",
   "metadata": {},
   "outputs": [
    {
     "name": "stdin",
     "output_type": "stream",
     "text": [
      "Enter the file path (or leave empty to cancel):  aa11\n",
      "Enter the number of lines to read:  2\n"
     ]
    },
    {
     "name": "stdout",
     "output_type": "stream",
     "text": [
      "\n",
      "Last 2 line(s):\n",
      "\n",
      "\n",
      "rr\n"
     ]
    }
   ],
   "source": [
    "def read_last_n_lines(file_path, n):\n",
    "    try:\n",
    "        if not file_path.strip():  \n",
    "            print(\"Error: No file path provided.\")\n",
    "            return\n",
    "\n",
    "        with open(file_path, 'r') as file:\n",
    "            lines = file.readlines()\n",
    "            if n > len(lines):\n",
    "                print(f\"The file has only {len(lines)} lines. Displaying all lines:\")\n",
    "                n = len(lines)\n",
    "            print(\"\\nLast {} line(s):\\n\".format(n))\n",
    "            for line in lines[-n:]:\n",
    "                print(line, end='')  \n",
    "    except FileNotFoundError:\n",
    "        print(\"Error: File not found. Please provide a valid file path.\")\n",
    "    except Exception as e:\n",
    "        print(f\"An error occurred: {e}\")\n",
    "\n",
    "file_path = input(\"Enter the file path (or leave empty to cancel): \").strip()\n",
    "if not file_path:\n",
    "    print(\"No file provided.\")\n",
    "else:\n",
    "    try:\n",
    "        n = int(input(\"Enter the number of lines to read: \"))\n",
    "        if n < 1:\n",
    "            print(\"Error: Number of lines must be at least 1.\")\n",
    "        else:\n",
    "            read_last_n_lines(file_path, n)\n",
    "    except ValueError:\n",
    "        print(\"Error: Please enter a valid number.\")\n"
   ]
  },
  {
   "cell_type": "markdown",
   "id": "249917f1-c38c-421d-bdee-cdb8964d0b3f",
   "metadata": {},
   "source": [
    "### 76) Write a Python program to read a file line by line and store it into a list \n"
   ]
  },
  {
   "cell_type": "code",
   "execution_count": 14,
   "id": "ceae9cdf-93aa-4caa-b103-793e695dd3b2",
   "metadata": {},
   "outputs": [
    {
     "name": "stdin",
     "output_type": "stream",
     "text": [
      "Enter the file path:  aa11\n"
     ]
    },
    {
     "name": "stdout",
     "output_type": "stream",
     "text": [
      "\n",
      "File content stored as a list:\n",
      "['a11', 're', 'mws', 'we', '', 'rr']\n"
     ]
    }
   ],
   "source": [
    "def read_file_to_list(file_path):\n",
    "    try:\n",
    "        with open(file_path, 'r') as file:\n",
    "            lines = file.readlines()  \n",
    "            return [line.strip() for line in lines] \n",
    "    except FileNotFoundError:\n",
    "        print(\"Error: File not found. Please provide a valid file path.\")\n",
    "        return []\n",
    "    except Exception as e:\n",
    "        print(f\"An error occurred: {e}\")\n",
    "        return []\n",
    "\n",
    "file_path = input(\"Enter the file path: \").strip()\n",
    "if not file_path:\n",
    "    print(\"No file provided. Exiting the program.\")\n",
    "else:\n",
    "    lines_list = read_file_to_list(file_path)\n",
    "    if lines_list:\n",
    "        print(\"\\nFile content stored as a list:\")\n",
    "        print(lines_list)"
   ]
  },
  {
   "cell_type": "markdown",
   "id": "16bd0d5f-08a1-4e9c-a4ec-0836cfeffaf0",
   "metadata": {},
   "source": [
    "### 77) Write a Python program to read a file line by line store it into a variable."
   ]
  },
  {
   "cell_type": "code",
   "execution_count": 23,
   "id": "8b78f94b-f191-45d8-aa05-b2c3e8db9653",
   "metadata": {},
   "outputs": [
    {
     "name": "stdin",
     "output_type": "stream",
     "text": [
      "Enter the file path:  aa11\n"
     ]
    },
    {
     "name": "stdout",
     "output_type": "stream",
     "text": [
      "\n",
      "File content stored in a variable:\n",
      "apple\n",
      "banana\n",
      "cherry\n",
      "date\n",
      "elderberry\n",
      "\n"
     ]
    }
   ],
   "source": [
    "def read_file_to_variable(file_path):\n",
    "    try:\n",
    "        with open(file_path, 'r') as file:\n",
    "            content = file.read()  \n",
    "            return content\n",
    "    except FileNotFoundError:\n",
    "        print(\"Error: File not found. Please provide a valid file path.\")\n",
    "        return \"\"\n",
    "    except Exception as e:\n",
    "        print(f\"An error occurred: {e}\")\n",
    "        return \"\"\n",
    "\n",
    "file_path = input(\"Enter the file path: \").strip()\n",
    "if not file_path:\n",
    "    print(\"No file provided. Exiting the program.\")\n",
    "else:\n",
    "    file_content = read_file_to_variable(file_path)\n",
    "    if file_content:\n",
    "        print(\"\\nFile content stored in a variable:\")\n",
    "        print(file_content)"
   ]
  },
  {
   "cell_type": "markdown",
   "id": "01e0c27e-7325-4b53-94f5-be3f9a8b6200",
   "metadata": {},
   "source": [
    "### 78) Write a python program to find the longest words"
   ]
  },
  {
   "cell_type": "code",
   "execution_count": 16,
   "id": "7864e7ef-d851-43ce-8717-f404730e95a0",
   "metadata": {},
   "outputs": [
    {
     "name": "stdin",
     "output_type": "stream",
     "text": [
      "Enter the file path:  aa11\n"
     ]
    },
    {
     "name": "stdout",
     "output_type": "stream",
     "text": [
      "\n",
      "The longest word(s):\n",
      "['a11', 'mws']\n"
     ]
    }
   ],
   "source": [
    "def find_longest_words(file_path):\n",
    "    try:\n",
    "        with open(file_path, 'r') as file:\n",
    "            words = file.read().split()  \n",
    "            longest_length = max(len(word) for word in words)  \n",
    "            longest_words = [word for word in words if len(word) == longest_length]  \n",
    "            return longest_words\n",
    "    except FileNotFoundError:\n",
    "        print(\"Error: File not found. Please provide a valid file path.\")\n",
    "        return []\n",
    "    except Exception as e:\n",
    "        print(f\"An error occurred: {e}\")\n",
    "        return []\n",
    "\n",
    "file_path = input(\"Enter the file path: \").strip()\n",
    "if not file_path:\n",
    "    print(\"No file provided. Exiting the program.\")\n",
    "else:\n",
    "    longest_words = find_longest_words(file_path)\n",
    "    if longest_words:\n",
    "        print(\"\\nThe longest word(s):\")\n",
    "        print(longest_words)"
   ]
  },
  {
   "cell_type": "markdown",
   "id": "51172803-2009-4535-923a-66798c3b71b0",
   "metadata": {},
   "source": [
    "### 79) Write a Python program to count the number of lines in a text file. \n"
   ]
  },
  {
   "cell_type": "code",
   "execution_count": 19,
   "id": "4135ee7f-f5c3-406d-b07d-84f2c30894e5",
   "metadata": {},
   "outputs": [
    {
     "name": "stdin",
     "output_type": "stream",
     "text": [
      "Enter the file path:  aa11\n"
     ]
    },
    {
     "name": "stdout",
     "output_type": "stream",
     "text": [
      "The number of lines in the file is: 6\n"
     ]
    }
   ],
   "source": [
    "def count_lines_in_file(file_path):\n",
    "    try:\n",
    "        with open(file_path, 'r') as file:\n",
    "            line_count = sum(1 for line in file)\n",
    "        return line_count\n",
    "    except FileNotFoundError:\n",
    "        print(\"Error: File not found. Please provide a valid file path.\")\n",
    "        return 0\n",
    "    except Exception as e:\n",
    "        print(f\"An error occurred: {e}\")\n",
    "        return 0\n",
    "\n",
    "file_path = input(\"Enter the file path: \").strip()\n",
    "\n",
    "if not file_path:\n",
    "    print(\"No file provided. Exiting the program.\")\n",
    "else:\n",
    "    line_count = count_lines_in_file(file_path)\n",
    "    if line_count > 0:\n",
    "        print(f\"The number of lines in the file is: {line_count}\")"
   ]
  },
  {
   "cell_type": "markdown",
   "id": "50db6471-b5f7-4437-ac4c-2236e5c3d62c",
   "metadata": {},
   "source": [
    "### 80) Write a Python program to count the frequency of words in a file. \n"
   ]
  },
  {
   "cell_type": "code",
   "execution_count": 20,
   "id": "2b366d25-d038-434f-a7f2-566fddd034d1",
   "metadata": {},
   "outputs": [
    {
     "name": "stdin",
     "output_type": "stream",
     "text": [
      "Enter the file path:  aa11\n"
     ]
    },
    {
     "name": "stdout",
     "output_type": "stream",
     "text": [
      "Word Frequency:\n",
      "a11: 1\n",
      "re: 1\n",
      "mws: 1\n",
      "we: 1\n",
      "rr: 1\n"
     ]
    }
   ],
   "source": [
    "from collections import Counter\n",
    "import string\n",
    "\n",
    "def count_word_frequency(file_path):\n",
    "    try:\n",
    "        with open(file_path, 'r') as file:\n",
    "            content = file.read()\n",
    "            content = content.translate(str.maketrans('', '', string.punctuation)).lower()\n",
    "            words = content.split()\n",
    "            word_count = Counter(words)\n",
    "        return word_count\n",
    "    except FileNotFoundError:\n",
    "        print(\"Error: File not found. Please provide a valid file path.\")\n",
    "        return {}\n",
    "    except Exception as e:\n",
    "        print(f\"An error occurred: {e}\")\n",
    "        return {}\n",
    "\n",
    "file_path = input(\"Enter the file path: \").strip()\n",
    "\n",
    "if not file_path:\n",
    "    print(\"No file provided. Exiting the program.\")\n",
    "else:\n",
    "    word_count = count_word_frequency(file_path)\n",
    "    if word_count:\n",
    "        print(\"Word Frequency:\")\n",
    "        for word, count in word_count.items():\n",
    "            print(f\"{word}: {count}\")\n"
   ]
  },
  {
   "cell_type": "markdown",
   "id": "8889b334-9d72-4d40-aa43-13a117211819",
   "metadata": {},
   "source": [
    "### 81) Write a Python program to write a list to a file. \n"
   ]
  },
  {
   "cell_type": "code",
   "execution_count": 21,
   "id": "bdf6130b-e9e4-48c0-b8f5-eafe7d3370e6",
   "metadata": {},
   "outputs": [
    {
     "name": "stdin",
     "output_type": "stream",
     "text": [
      "Enter the file path:  aa11\n"
     ]
    },
    {
     "name": "stdout",
     "output_type": "stream",
     "text": [
      "List has been written to aa11\n"
     ]
    }
   ],
   "source": [
    "def write_list_to_file(file_path, data_list):\n",
    "    try:\n",
    "        with open(file_path, 'w') as file:\n",
    "            for item in data_list:\n",
    "                file.write(f\"{item}\\n\")\n",
    "        print(f\"List has been written to {file_path}\")\n",
    "    except Exception as e:\n",
    "        print(f\"An error occurred: {e}\")\n",
    "\n",
    "file_path = input(\"Enter the file path: \").strip()\n",
    "data_list = ['apple', 'banana', 'cherry', 'date', 'elderberry']\n",
    "\n",
    "write_list_to_file(file_path, data_list)"
   ]
  },
  {
   "cell_type": "markdown",
   "id": "dbbcce4e-fcb3-4e92-bac5-a1eb29fe89ba",
   "metadata": {},
   "source": [
    "### 82) Write a Python program to copy the contents of a file to another file. \n"
   ]
  },
  {
   "cell_type": "code",
   "execution_count": 22,
   "id": "cc30953f-f6f4-42aa-b7cd-9213547c6396",
   "metadata": {},
   "outputs": [
    {
     "name": "stdin",
     "output_type": "stream",
     "text": [
      "Enter the source file path:  aa11\n",
      "Enter the destination file path:  aa11\n"
     ]
    },
    {
     "name": "stdout",
     "output_type": "stream",
     "text": [
      "Contents of aa11 have been copied to aa11\n"
     ]
    }
   ],
   "source": [
    "def copy_file_contents(source_file, destination_file):\n",
    "    try:\n",
    "        with open(source_file, 'r') as src_file:\n",
    "            content = src_file.read()\n",
    "\n",
    "        with open(destination_file, 'w') as dest_file:\n",
    "            dest_file.write(content)\n",
    "        \n",
    "        print(f\"Contents of {source_file} have been copied to {destination_file}\")\n",
    "    except FileNotFoundError:\n",
    "        print(\"Error: Source file not found.\")\n",
    "    except Exception as e:\n",
    "        print(f\"An error occurred: {e}\")\n",
    "\n",
    "source_file = input(\"Enter the source file path: \").strip()\n",
    "destination_file = input(\"Enter the destination file path: \").strip()\n",
    "\n",
    "copy_file_contents(source_file, destination_file)"
   ]
  },
  {
   "cell_type": "markdown",
   "id": "a0cbcc90-ec50-4bec-99dc-63ce27b0d555",
   "metadata": {},
   "source": [
    "### 83) **Explain Exception Handling and What is an Error in Python?**\n",
    "**Exception Handling** in Python allows the program to handle runtime errors gracefully, ensuring the program doesn't crash abruptly. It uses constructs like `try`, `except`, `else`, and `finally` to catch and manage exceptions.\n",
    "\n",
    "**Error** in Python is a problem in a program that causes it to terminate. Errors can be of two types:\n",
    "- **Syntax Errors**: Occur when the Python syntax is incorrect (e.g., missing a colon).\n",
    "- **Exceptions**: Occur during program execution (e.g., dividing by zero).\n",
    "\n",
    "### 84) **How Many Except Statements Can a Try-Except Block Have? Name Some Built-in Exception Classes:**\n",
    "A `try` block can have multiple `except` statements to handle different exceptions. There's no fixed limit, but each `except` statement must handle specific exceptions.\n",
    "\n",
    "**Some Built-in Exception Classes:**\n",
    "- `IndexError`: List index out of range.\n",
    "- `KeyError`: Dictionary key not found.\n",
    "- `ValueError`: Invalid value.\n",
    "- `ZeroDivisionError`: Division by zero.\n",
    "- `TypeError`: Invalid operation on incompatible types.\n",
    "- `FileNotFoundError`: File not found.\n",
    "- `AttributeError`: Attribute reference or assignment fails.\n",
    "\n",
    "### 85) **When Will the Else Part of Try-Except-Else Be Executed?**\n",
    "The `else` part will be executed only if no exceptions occur in the `try` block.\n",
    "\n",
    "```python\n",
    "try:\n",
    "    num = int(input(\"Enter a number: \"))\n",
    "except ValueError:\n",
    "    print(\"Invalid input! Please enter a number.\")\n",
    "else:\n",
    "    print(f\"Great! You entered: {num}\")\n",
    "```\n",
    "\n",
    "### 86) **Can One Block of Except Statements Handle Multiple Exceptions?**\n",
    "Yes, an `except` block can handle multiple exceptions by specifying them in a tuple.\n",
    "\n",
    "```python\n",
    "try:\n",
    "    num = int(input(\"Enter a number: \"))\n",
    "    result = 10 / num\n",
    "except (ValueError, ZeroDivisionError) as e:\n",
    "    print(f\"An error occurred: {e}\")\n",
    "```\n",
    "\n",
    "### 87) **When is the Finally Block Executed?**\n",
    "The `finally` block is executed regardless of whether an exception occurred or not. It is typically used for cleanup actions.\n",
    "\n",
    "```python\n",
    "try:\n",
    "    file = open(\"example.txt\", \"r\")\n",
    "    content = file.read()\n",
    "except FileNotFoundError:\n",
    "    print(\"File not found!\")\n",
    "finally:\n",
    "    print(\"Closing file.\")\n",
    "    file.close()\n",
    "```\n",
    "\n",
    "### 88) **What Happens When `1 == '1'` is Executed?**\n",
    "The expression evaluates to `False` because `1` is an integer and `'1'` is a string. Python checks both the value and type during comparisons.\n",
    "\n",
    "### 89) **How Do You Handle Exceptions with Try/Except/Finally in Python?**\n",
    "You can use the `try`, `except`, and `finally` blocks to handle exceptions and ensure the final block of code is executed.\n",
    "\n",
    "#### Example:\n",
    "```python\n",
    "try:\n",
    "    num = int(input(\"Enter a number: \"))\n",
    "    result = 10 / num\n",
    "except ValueError:\n",
    "    print(\"Invalid input! You must enter a number.\")\n",
    "except ZeroDivisionError:\n",
    "    print(\"Division by zero is not allowed.\")\n",
    "else:\n",
    "    print(f\"Result: {result}\")\n",
    "finally:\n",
    "    print(\"Execution completed.\")\n",
    "```\n",
    "\n",
    "### Explanation of the Example:\n",
    "1. **`try` Block:** Contains code that may raise exceptions.\n",
    "2. **`except` Blocks:** Handle specific exceptions (`ValueError`, `ZeroDivisionError`).\n",
    "3. **`else` Block:** Executes only if no exception occurs.\n",
    "4. **`finally` Block:** Always executes, used for cleanup tasks."
   ]
  },
  {
   "cell_type": "markdown",
   "id": "e9c676ac-4a28-436e-ad63-b115535473e3",
   "metadata": {},
   "source": [
    "Let’s break down the specific outputs for each block (`except`, `else`, `finally`) based on the examples provided.\n",
    "\n",
    "### Example Code:\n",
    "\n",
    "```python\n",
    "try:\n",
    "    num = int(input(\"Enter a number: \"))\n",
    "    result = 10 / num\n",
    "except ValueError:\n",
    "    print(\"Invalid input! You must enter a number.\")\n",
    "except ZeroDivisionError:\n",
    "    print(\"Division by zero is not allowed.\")\n",
    "else:\n",
    "    print(f\"Result: {result}\")\n",
    "finally:\n",
    "    print(\"Execution completed.\")\n",
    "```\n",
    "\n",
    "### **1. When Valid Input is Provided (e.g., `5`)**\n",
    "\n",
    "**Input:**\n",
    "```\n",
    "Enter a number: 5\n",
    "```\n",
    "\n",
    "**Output:**\n",
    "```\n",
    "Result: 2.0\n",
    "Execution completed.\n",
    "```\n",
    "\n",
    "- **`try` Block:** Executes normally because no exceptions occur. It calculates `10 / 5` and sets `result = 2.0`.\n",
    "- **`except` Blocks:** Neither `ValueError` nor `ZeroDivisionError` occurs, so these are skipped.\n",
    "- **`else` Block:** Since no exception occurred, it runs and prints `Result: 2.0`.\n",
    "- **`finally` Block:** Always executes, so it prints `Execution completed.`.\n",
    "\n",
    "### **2. When Invalid Input is Provided (e.g., `\"abc\"`)**\n",
    "\n",
    "**Input:**\n",
    "```\n",
    "Enter a number: abc\n",
    "```\n",
    "\n",
    "**Output:**\n",
    "```\n",
    "Invalid input! You must enter a number.\n",
    "Execution completed.\n",
    "```\n",
    "\n",
    "- **`try` Block:** Raises a `ValueError` because `\"abc\"` cannot be converted to an integer.\n",
    "- **`except ValueError` Block:** Catches the `ValueError` and prints `Invalid input! You must enter a number.`.\n",
    "- **`else` Block:** Does not execute because an exception occurred.\n",
    "- **`finally` Block:** Executes regardless, so it prints `Execution completed.`.\n",
    "\n",
    "### **3. When Division by Zero is Attempted (e.g., `0`)**\n",
    "\n",
    "**Input:**\n",
    "```\n",
    "Enter a number: 0\n",
    "```\n",
    "\n",
    "**Output:**\n",
    "```\n",
    "Division by zero is not allowed.\n",
    "Execution completed.\n",
    "```\n",
    "\n",
    "- **`try` Block:** Executes `10 / 0`, which raises a `ZeroDivisionError`.\n",
    "- **`except ZeroDivisionError` Block:** Catches the `ZeroDivisionError` and prints `Division by zero is not allowed.`.\n",
    "- **`else` Block:** Does not execute because an exception occurred.\n",
    "- **`finally` Block:** Executes regardless, so it prints `Execution completed.`.\n",
    "\n",
    "### **4. When Input is Left Empty (e.g., pressing Enter without a number)**\n",
    "\n",
    "**Input:**\n",
    "```\n",
    "Enter a number: \n",
    "```\n",
    "\n",
    "**Output:**\n",
    "```\n",
    "Invalid input! You must enter a number.\n",
    "Execution completed.\n",
    "```\n",
    "\n",
    "- **`try` Block:** Raises a `ValueError` because the input is empty and cannot be converted to an integer.\n",
    "- **`except ValueError` Block:** Catches the `ValueError` and prints `Invalid input! You must enter a number.`.\n",
    "- **`else` Block:** Does not execute because an exception occurred.\n",
    "- **`finally` Block:** Executes regardless, so it prints `Execution completed.`.\n",
    "."
   ]
  },
  {
   "cell_type": "markdown",
   "id": "114ea5fd-9143-4191-83ad-da1c788a5da8",
   "metadata": {},
   "source": [
    "### 90) Write python program that user to enter only odd numbers, else will raise an exception."
   ]
  },
  {
   "cell_type": "code",
   "execution_count": 18,
   "id": "1024ea1e-36ac-4b33-90b8-084c9d82253d",
   "metadata": {},
   "outputs": [
    {
     "name": "stdin",
     "output_type": "stream",
     "text": [
      "Enter an odd number:  2\n"
     ]
    },
    {
     "name": "stdout",
     "output_type": "stream",
     "text": [
      "The number is not odd. Please enter an odd number.\n"
     ]
    },
    {
     "name": "stdin",
     "output_type": "stream",
     "text": [
      "Enter an odd number:  4\n"
     ]
    },
    {
     "name": "stdout",
     "output_type": "stream",
     "text": [
      "The number is not odd. Please enter an odd number.\n"
     ]
    },
    {
     "name": "stdin",
     "output_type": "stream",
     "text": [
      "Enter an odd number:  3\n"
     ]
    },
    {
     "name": "stdout",
     "output_type": "stream",
     "text": [
      "You entered the odd number: 3\n"
     ]
    }
   ],
   "source": [
    "def get_odd_number():\n",
    "    while True:\n",
    "        try:\n",
    "            num = int(input(\"Enter an odd number: \"))\n",
    "\n",
    "            if num % 2 == 0:\n",
    "                raise ValueError(\"The number is not odd. Please enter an odd number.\")\n",
    "            \n",
    "            return num\n",
    "        \n",
    "        except ValueError as e:\n",
    "            print(e)\n",
    "\n",
    "odd_number = get_odd_number()\n",
    "print(f\"You entered the odd number: {odd_number}\")"
   ]
  },
  {
   "cell_type": "markdown",
   "id": "e4288016-fbac-4a1d-8e53-70f981252dd3",
   "metadata": {},
   "source": [
    "\n",
    "| **Collection Type** | **Ordered** | **Mutable** | **Allows Duplicates** |\n",
    "|---------------------|-------------|-------------|-----------------------|\n",
    "| **List**            | ✔️          | ✔️          | ✔️                    |\n",
    "| **Tuple**           | ✔️          | ❌          | ✔️                    |\n",
    "| **Set**             | ❌          | ✔️          | ❌                    |\n",
    "| **Dictionary**      | ✔️ (from Python 3.7) | ✔️          | Keys: ❌, Values: ✔️    |\n",
    "\n",
    "### Explanation:\n",
    "\n",
    "- **List**: It is **ordered**, **mutable**, and **allows duplicates**.\n",
    "- **Tuple**: It is **ordered**, **immutable**, and **allows duplicates**.\n",
    "- **Set**: It is **unordered**, **mutable**, and **does not allow duplicates**.\n",
    "- **Dictionary**: It is **ordered** (from Python 3.7), **mutable**, and **does not allow duplicate keys** but **allows duplicate values**."
   ]
  },
  {
   "cell_type": "markdown",
   "id": "5b79bd79-269d-40b7-bad5-24b021cd9570",
   "metadata": {},
   "source": [
    "---\n",
    "\n",
    "| **Method**                | **List** | **Tuple** | **Set**  | **Dictionary** |\n",
    "|---------------------------|----------|-----------|----------|----------------|\n",
    "| **append()**               | ✔️       | ❌        | ❌       | ❌             |\n",
    "| **extend()**               | ✔️       | ❌        | ❌       | ❌             |\n",
    "| **insert()**               | ✔️       | ❌        | ❌       | ❌             |\n",
    "| **remove()**               | ✔️       | ❌        | ✔️       | ❌             |\n",
    "| **pop()**                  | ✔️       | ❌        | ✔️       | ✔️             |\n",
    "| **clear()**                | ✔️       | ❌        | ✔️       | ✔️             |\n",
    "| **index()**                | ✔️       | ✔️        | ❌       | ✔️             |\n",
    "| **count()**                | ✔️       | ✔️        | ❌       | ❌             |\n",
    "| **sort()**                 | ✔️       | ❌        | ❌       | ❌             |\n",
    "| **reverse()**              | ✔️       | ❌        | ❌       | ❌             |\n",
    "| **copy()**                 | ✔️       | ✔️        | ✔️       | ✔️             |\n",
    "| **__contains__()**         | ✔️       | ✔️        | ✔️       | ✔️             |\n",
    "| **add()**                  | ❌       | ❌        | ✔️       | ❌             |\n",
    "| **discard()**              | ❌       | ❌        | ✔️       | ❌             |\n",
    "| **union()**                | ❌       | ❌        | ✔️       | ❌             |\n",
    "| **intersection()**         | ❌       | ❌        | ✔️       | ❌             |\n",
    "| **difference()**           | ❌       | ❌        | ✔️       | ❌             |\n",
    "| **popitem()**              | ❌       | ❌        | ❌       | ✔️             |\n",
    "| **get()**                  | ❌       | ❌        | ❌       | ✔️             |\n",
    "| **keys()**                 | ❌       | ❌        | ❌       | ✔️             |\n",
    "| **values()**               | ❌       | ❌        | ❌       | ✔️             |\n",
    "| **items()**                | ❌       | ❌        | ❌       | ✔️             |\n",
    "| **update()**               | ❌       | ❌        | ✔️       | ✔️             |\n",
    "| **fromkeys()**             | ❌       | ❌        | ❌       | ✔️             |\n",
    "| **setdefault()**           | ❌       | ❌        | ❌       | ✔️             |\n",
    "\n",
    "### Explanation of Methods:\n",
    "\n",
    "#### **List Methods**:\n",
    "- **append()**: Adds an element to the end of the list.\n",
    "- **extend()**: Adds multiple elements to the end of the list.\n",
    "- **insert()**: Inserts an element at a specified position.\n",
    "- **remove()**: Removes the first occurrence of a specified element.\n",
    "- **pop()**: Removes and returns the element at the given index.\n",
    "- **clear()**: Removes all elements from the list.\n",
    "- **index()**: Returns the index of the first occurrence of an element.\n",
    "- **count()**: Returns the count of occurrences of an element.\n",
    "- **sort()**: Sorts the list in place.\n",
    "- **reverse()**: Reverses the elements of the list in place.\n",
    "- **copy()**: Returns a shallow copy of the list.\n",
    "\n",
    "#### **Tuple Methods**:\n",
    "- **index()**: Returns the index of the first occurrence of an element.\n",
    "- **count()**: Returns the count of occurrences of an element.\n",
    "- **copy()**: Tuples are immutable, so it does not need a copy method.\n",
    "\n",
    "#### **Set Methods**:\n",
    "- **add()**: Adds an element to the set.\n",
    "- **discard()**: Removes an element if it exists, does nothing if not.\n",
    "- **union()**: Returns the union of two sets.\n",
    "- **intersection()**: Returns the intersection of two sets.\n",
    "- **difference()**: Returns the difference between two sets.\n",
    "- **clear()**: Removes all elements from the set.\n",
    "- **pop()**: Removes and returns an arbitrary element.\n",
    "- **copy()**: Returns a shallow copy of the set.\n",
    "\n",
    "#### **Dictionary Methods**:\n",
    "- **popitem()**: Removes and returns a key-value pair.\n",
    "- **get()**: Returns the value for a specified key.\n",
    "- **keys()**: Returns all keys in the dictionary.\n",
    "- **values()**: Returns all values in the dictionary.\n",
    "- **items()**: Returns all key-value pairs as tuples.\n",
    "- **update()**: Updates the dictionary with key-value pairs from another dictionary or iterable.\n",
    "- **fromkeys()**: Returns a dictionary with specified keys and a default value.\n",
    "- **setdefault()**: Returns the value of a key, if it doesn't exist, adds the key with a specified value. \n"
   ]
  },
  {
   "cell_type": "markdown",
   "id": "a61e5b91-cb12-411a-a63b-de66a51817c7",
   "metadata": {},
   "source": [
    "### **Mapping Characters:**\n",
    "\n",
    "When we talk about \"mapping characters,\" we're referring to the process of associating one character (or set of characters) with another. This is done using a **mapping table**, where each character in a given set is assigned a specific replacement or transformation.\n",
    "\n",
    "In the context of **`maketrans()`** and **`translate()`**, **mapping** refers to the creation of this association between characters so that one can be replaced by another when the string is processed.\n",
    "\n",
    "---\n",
    "\n",
    "### **How Does Character Mapping Work?**\n",
    "\n",
    "Character mapping is like a **dictionary** where:\n",
    "- **The key** is a character you want to replace (the original character).\n",
    "- **The value** is the character you want to replace it with (the new character).\n",
    "\n",
    "When we use **`maketrans()`**, we are essentially creating a **translation table** (a mapping) that tells Python which characters in a string should be replaced with other characters.\n",
    "\n",
    "### **Example 1: Basic Mapping**\n",
    "Imagine you want to convert all occurrences of the letter `'a'` to `'1'`, `'b'` to `'2'`, and `'c'` to `'3'`.\n",
    "\n",
    "- You would create a mapping like this:\n",
    "  - `'a'` -> `'1'`\n",
    "  - `'b'` -> `'2'`\n",
    "  - `'c'` -> `'3'`\n",
    "\n",
    "Using **`maketrans()`**, we can specify this mapping and then apply it to a string using **`translate()`**.\n",
    "\n",
    "#### **Code Example**:\n",
    "```python\n",
    "# Create a mapping using maketrans\n",
    "translation_table = str.maketrans(\"abc\", \"123\")\n",
    "\n",
    "# Apply the translation to a string\n",
    "my_str = \"abc\"\n",
    "new_str = my_str.translate(translation_table)\n",
    "print(new_str)  # Output: 123\n",
    "```\n",
    "\n",
    "- **Explanation**:\n",
    "  - **Mapping**: \n",
    "    - `'a'` maps to `'1'`\n",
    "    - `'b'` maps to `'2'`\n",
    "    - `'c'` maps to `'3'`\n",
    "  - **Result**: In the string `\"abc\"`, the `'a'` is replaced by `'1'`, `'b'` is replaced by `'2'`, and `'c'` is replaced by `'3'`.\n",
    "\n",
    "---\n",
    "\n",
    "### **Example 2: Mapping with Dictionary**\n",
    "\n",
    "You can also create a mapping using a **dictionary** where keys are the characters to replace, and values are the characters they should be replaced with.\n",
    "\n",
    "#### **Code Example**:\n",
    "```python\n",
    "# Create a mapping using a dictionary\n",
    "translation_table = str.maketrans({\"a\": \"1\", \"b\": \"2\", \"c\": \"3\"})\n",
    "\n",
    "# Apply the translation to a string\n",
    "my_str = \"abc\"\n",
    "new_str = my_str.translate(translation_table)\n",
    "print(new_str)  # Output: 123\n",
    "```\n",
    "\n",
    "- **Explanation**:\n",
    "  - **Mapping**:\n",
    "    - `'a'` -> `'1'`\n",
    "    - `'b'` -> `'2'`\n",
    "    - `'c'` -> `'3'`\n",
    "  - **Result**: In the string `\"abc\"`, `'a'` is replaced by `'1'`, `'b'` is replaced by `'2'`, and `'c'` is replaced by `'3'`.\n",
    "\n",
    "---\n",
    "\n",
    "### **Example 3: Removing Characters by Mapping**\n",
    "\n",
    "If you want to remove certain characters from a string (e.g., removing vowels), you can use **`maketrans()`** to map those characters to `None`.\n",
    "\n",
    "#### **Code Example**:\n",
    "```python\n",
    "# Create a mapping to remove vowels\n",
    "translation_table = str.maketrans(\"\", \"\", \"aeiou\")\n",
    "\n",
    "# Apply the translation to a string\n",
    "my_str = \"Hello, World!\"\n",
    "new_str = my_str.translate(translation_table)\n",
    "print(new_str)  # Output: \"Hll, Wrld!\"\n",
    "```\n",
    "\n",
    "- **Explanation**:\n",
    "  - **Mapping**:\n",
    "    - Each vowel (`'a'`, `'e'`, `'i'`, `'o'`, `'u'`) is mapped to **`None`**, meaning they will be removed from the string.\n",
    "  - **Result**: The vowels are removed from the string `\"Hello, World!\"`, leaving `\"Hll, Wrld!\"`.\n",
    "\n",
    "---\n",
    "\n",
    "### **Summary of Character Mapping**:\n",
    "- **Mapping** is the process of associating one character to another (or to `None` for removal).\n",
    "- This mapping is done using **`maketrans()`**, which returns a translation table.\n",
    "- **`translate()`** then uses this translation table to transform the string, applying the mapping and replacing (or removing) characters as specified.\n",
    "\n",
    "Character mapping is a powerful and efficient way to perform bulk replacements or deletions in strings, especially when you have multiple characters to replace at once."
   ]
  },
  {
   "cell_type": "markdown",
   "id": "a27683fa-fa8f-4d8b-9553-d09a852a26f0",
   "metadata": {},
   "source": [
    "---\n",
    "### `maketrans()` and `translate()` in Python\n",
    "\n",
    "These are methods in Python that are often used together to perform character-based transformations, such as replacing or removing characters in a string.\n",
    "\n",
    "#### **`maketrans()`**\n",
    "\n",
    "- **Purpose**: It is used to create a translation table that maps characters (or substrings) to their replacements.\n",
    "- **Usage**: `maketrans()` is typically used to create a dictionary-like object, which is then passed to the `translate()` method to perform transformations on a string.\n",
    "\n",
    "#### **Syntax**:\n",
    "```python\n",
    "str.maketrans(x, y)\n",
    "```\n",
    "- **`x`**: A string or dictionary containing the characters to be replaced.\n",
    "- **`y`**: A string containing the characters to replace those in `x`.\n",
    "  - If `x` is a string, then the characters in `y` correspond to the ones in `x`. For example, the character at position 0 in `x` will be replaced with the character at position 0 in `y`.\n",
    "\n",
    "If `x` is a dictionary, it should map the characters to be replaced to their replacements.\n",
    "\n",
    "#### **Examples of `maketrans()`**:\n",
    "\n",
    "1. **Basic character replacement**:\n",
    "   ```python\n",
    "   translation_table = str.maketrans(\"abc\", \"123\")\n",
    "   print(translation_table)  # Output: {97: 49, 98: 50, 99: 51}\n",
    "   ```\n",
    "\n",
    "2. **Using a dictionary**:\n",
    "   ```python\n",
    "   translation_table = str.maketrans({\"a\": \"1\", \"b\": \"2\", \"c\": \"3\"})\n",
    "   print(translation_table)  # Output: {'a': '1', 'b': '2', 'c': '3'}\n",
    "   ```\n",
    "\n",
    "#### **`translate()`**\n",
    "\n",
    "- **Purpose**: It is used to apply the translation table (created using `maketrans()`) to a string to replace characters based on the mapping.\n",
    "- **Usage**: Once the translation table is created, you use `translate()` on a string to perform the character replacements.\n",
    "\n",
    "#### **Syntax**:\n",
    "```python\n",
    "str.translate(table)\n",
    "```\n",
    "- **`table`**: The translation table created using `maketrans()`.\n",
    "\n",
    "#### **Examples of `translate()`**:\n",
    "\n",
    "1. **Basic character replacement**:\n",
    "   ```python\n",
    "   my_str = \"abc\"\n",
    "   translation_table = str.maketrans(\"abc\", \"123\")\n",
    "   new_str = my_str.translate(translation_table)\n",
    "   print(new_str)  # Output: 123\n",
    "   ```\n",
    "\n",
    "2. **Using a dictionary with `maketrans()`**:\n",
    "   ```python\n",
    "   my_str = \"abc\"\n",
    "   translation_table = str.maketrans({\"a\": \"1\", \"b\": \"2\", \"c\": \"3\"})\n",
    "   new_str = my_str.translate(translation_table)\n",
    "   print(new_str)  # Output: 123\n",
    "   ```\n",
    "\n",
    "3. **Removing characters** (using `maketrans()` with `None`):\n",
    "   - To remove certain characters from a string, you can use `maketrans()` with `None` as the second argument.\n",
    "   ```python\n",
    "   my_str = \"Hello, World!\"\n",
    "   translation_table = str.maketrans(\"\", \"\", \"aeiou\")\n",
    "   new_str = my_str.translate(translation_table)\n",
    "   print(new_str)  # Output: \"Hll, Wrld!\"\n",
    "   ```\n",
    "\n",
    "#### **Summary of Key Points**:\n",
    "- **`maketrans()`**: Creates a translation table to map characters to their replacements.\n",
    "- **`translate()`**: Applies the translation table to a string to perform the replacements or removals.\n",
    "\n",
    "These two methods are useful for tasks such as:\n",
    "- Replacing characters in a string (e.g., converting all vowels to another character).\n",
    "- Removing unwanted characters from a string (e.g., stripping punctuation)."
   ]
  },
  {
   "cell_type": "code",
   "execution_count": null,
   "id": "2447dcec-50c1-4155-ba8c-25ac18ec3a93",
   "metadata": {},
   "outputs": [],
   "source": []
  }
 ],
 "metadata": {
  "kernelspec": {
   "display_name": "Python 3 (ipykernel)",
   "language": "python",
   "name": "python3"
  },
  "language_info": {
   "codemirror_mode": {
    "name": "ipython",
    "version": 3
   },
   "file_extension": ".py",
   "mimetype": "text/x-python",
   "name": "python",
   "nbconvert_exporter": "python",
   "pygments_lexer": "ipython3",
   "version": "3.11.7"
  }
 },
 "nbformat": 4,
 "nbformat_minor": 5
}
